{
 "cells": [
  {
   "cell_type": "code",
   "execution_count": 1,
   "metadata": {
    "id": "bAEw7_omGSXh"
   },
   "outputs": [
    {
     "name": "stderr",
     "output_type": "stream",
     "text": [
      "2022-09-27 06:12:14.325599: I tensorflow/core/platform/cpu_feature_guard.cc:193] This TensorFlow binary is optimized with oneAPI Deep Neural Network Library (oneDNN) to use the following CPU instructions in performance-critical operations:  AVX2 AVX512F FMA\n",
      "To enable them in other operations, rebuild TensorFlow with the appropriate compiler flags.\n",
      "2022-09-27 06:12:14.579474: E tensorflow/stream_executor/cuda/cuda_blas.cc:2981] Unable to register cuBLAS factory: Attempting to register factory for plugin cuBLAS when one has already been registered\n",
      "2022-09-27 06:12:15.502778: W tensorflow/stream_executor/platform/default/dso_loader.cc:64] Could not load dynamic library 'libnvinfer.so.7'; dlerror: libnvinfer.so.7: cannot open shared object file: No such file or directory\n",
      "2022-09-27 06:12:15.502882: W tensorflow/stream_executor/platform/default/dso_loader.cc:64] Could not load dynamic library 'libnvinfer_plugin.so.7'; dlerror: libnvinfer_plugin.so.7: cannot open shared object file: No such file or directory\n",
      "2022-09-27 06:12:15.502894: W tensorflow/compiler/tf2tensorrt/utils/py_utils.cc:38] TF-TRT Warning: Cannot dlopen some TensorRT libraries. If you would like to use Nvidia GPU with TensorRT, please make sure the missing libraries mentioned above are installed properly.\n"
     ]
    }
   ],
   "source": [
    "%matplotlib inline\n",
    "import matplotlib.pyplot as plt\n",
    "import os\n",
    "from scipy.io import wavfile\n",
    "from collections import defaultdict, Counter\n",
    "from scipy import signal\n",
    "import numpy as np\n",
    "import librosa\n",
    "import sklearn\n",
    "import random\n",
    "from unicodedata import normalize\n",
    "from keras.layers import Dense\n",
    "from keras import Input\n",
    "import librosa.display\n",
    "from keras_preprocessing.sequence import pad_sequences \n",
    "import tensorflow as tf\n",
    "from keras.callbacks import EarlyStopping, ModelCheckpoint, LearningRateScheduler"
   ]
  },
  {
   "cell_type": "code",
   "execution_count": 2,
   "metadata": {
    "id": "q0laA4zvJp3x"
   },
   "outputs": [],
   "source": [
    "# 오디오 데이터\n",
    "DATA_DIR_TRAIN = './특화_음성/real_check/train/'\n",
    "DATA_DIR_TEST = './특화_음성/real_check/test/'"
   ]
  },
  {
   "cell_type": "code",
   "execution_count": 3,
   "metadata": {
    "id": "b2CYnaiKNoGE"
   },
   "outputs": [],
   "source": [
    "# Data set list, include (raw data, mfcc data, y data)\n",
    "trainset = []\n",
    "testset = []\n",
    "\n",
    "# split each set into raw data, mfcc data, and y data\n",
    "# STFT 한 것, CNN 분석하기 위해 Spectogram으로 만든 것, MF한 것, mel0spectogram 한 것\n",
    "train_X = []\n",
    "train_mfccs = []\n",
    "train_y = []\n",
    "\n",
    "test_X = []\n",
    "test_mfccs = []\n",
    "test_y = []\n",
    "\n",
    "# 모든 음성파일의 길이가 같도록 후위에 padding 처리\n",
    "pad1d = lambda a, i: a[0: i] if a.shape[0] > i else np.hstack((a, np.zeros(i-a.shape[0])))\n",
    "pad2d = lambda a, i: a[:, 0:i] if a.shape[1] > i else np.hstack((a, np.zeros((a.shape[0], i-a.shape[1]))))\n",
    "\n",
    "frame_length = 0.025\n",
    "frame_stride = 0.0010"
   ]
  },
  {
   "cell_type": "code",
   "execution_count": 4,
   "metadata": {
    "colab": {
     "base_uri": "https://localhost:8080/"
    },
    "id": "MMVYxKIbvDH8",
    "outputId": "8f2b6efa-51a6-4c07-c3bc-443454813eb9"
   },
   "outputs": [],
   "source": [
    "# train data를 넣는다.\n",
    "for filename in os.listdir(DATA_DIR_TRAIN):\n",
    "    filename = normalize('NFC', filename)\n",
    "    try:\n",
    "    # wav 포맷 데이터만 사용\n",
    "        if '.wav' not in filename in filename:\n",
    "            continue\n",
    "      \n",
    "        wav, sr = librosa.load(DATA_DIR_TRAIN+ filename, sr=16000)\n",
    "    \n",
    "        mfcc = librosa.feature.mfcc(wav, sr=16000, n_mfcc=100, n_fft=400, hop_length=160)\n",
    "        padded_mfcc = pad2d(mfcc, 110)\n",
    "\n",
    "    # 추임새 별로 dataset에 추가\n",
    "    # 응/아니\n",
    "        if filename[0] == '응':\n",
    "            trainset.append((padded_mfcc, 0))\n",
    "        elif filename[0] == '아':\n",
    "            trainset.append((padded_mfcc, 1))\n",
    "    except Exception as e:\n",
    "        print(filename, e)\n",
    "        raise\n",
    "\n",
    "# 학습 데이터를 무작위로 섞는다.\n",
    "random.shuffle(trainset)"
   ]
  },
  {
   "cell_type": "code",
   "execution_count": 5,
   "metadata": {
    "colab": {
     "base_uri": "https://localhost:8080/"
    },
    "id": "92UI8oZ5N6OQ",
    "outputId": "c3017637-ed11-4040-ccdf-523288f245b3"
   },
   "outputs": [],
   "source": [
    "# test data를 넣는다.\n",
    "for filename in os.listdir(DATA_DIR_TEST):\n",
    "    filename = normalize('NFC', filename)\n",
    "    try:\n",
    "    # wav 포맷 데이터만 사용\n",
    "        if '.wav' not in filename in filename:\n",
    "            continue\n",
    "      \n",
    "        wav, sr = librosa.load(DATA_DIR_TEST+ filename, sr=16000)\n",
    "    \n",
    "        mfcc = librosa.feature.mfcc(wav, sr=16000, n_mfcc=100, n_fft=400, hop_length=160)\n",
    "        padded_mfcc = pad2d(mfcc, 110)\n",
    "\n",
    "    # 추임새 별로 dataset에 추가\n",
    "    # 응/아니\n",
    "        if filename[0] == '응':\n",
    "            testset.append((padded_mfcc, 0))\n",
    "        elif filename[0] == '아':\n",
    "            testset.append((padded_mfcc, 1))\n",
    "    except Exception as e:\n",
    "        print(filename, e)\n",
    "        raise\n",
    "\n",
    "# 평가 데이터를 무작위로 섞는다.\n",
    "random.shuffle(testset)"
   ]
  },
  {
   "cell_type": "code",
   "execution_count": 6,
   "metadata": {
    "colab": {
     "base_uri": "https://localhost:8080/"
    },
    "id": "08GeZeTVTGbL",
    "outputId": "fb1423b5-38c8-4fd6-ed23-893c542fd7fb"
   },
   "outputs": [
    {
     "name": "stdout",
     "output_type": "stream",
     "text": [
      "train_mfccs: (2000, 100, 110)\n",
      "train_y: (2000, 2)\n",
      "test_mfccs: (600, 100, 110)\n",
      "test_y: (600, 2)\n"
     ]
    }
   ],
   "source": [
    "train_mfccs = [a for (a,b) in trainset]\n",
    "train_y = [b for (a,b) in trainset]\n",
    "\n",
    "test_mfccs = [a for (a,b) in testset]\n",
    "test_y = [b for (a,b) in testset]\n",
    "\n",
    "train_mfccs = np.array(train_mfccs)\n",
    "train_y = tf.keras.utils.to_categorical(np.array(train_y))\n",
    "\n",
    "test_mfccs = np.array(test_mfccs)\n",
    "test_y = tf.keras.utils.to_categorical(np.array(test_y))\n",
    "\n",
    "print('train_mfccs:', train_mfccs.shape)\n",
    "print('train_y:', train_y.shape)\n",
    "\n",
    "print('test_mfccs:', test_mfccs.shape)\n",
    "print('test_y:', test_y.shape)"
   ]
  },
  {
   "cell_type": "code",
   "execution_count": 7,
   "metadata": {
    "colab": {
     "base_uri": "https://localhost:8080/"
    },
    "id": "ZxKmdLPD5z7U",
    "outputId": "26c0cd97-d8df-4b69-ed9a-875e498cdb28"
   },
   "outputs": [
    {
     "name": "stdout",
     "output_type": "stream",
     "text": [
      "train X shape: (2000, 100, 110, 1)\n",
      "test X shape: (600, 100, 110, 1)\n"
     ]
    }
   ],
   "source": [
    "train_X_ex = np.expand_dims(train_mfccs, -1)\n",
    "test_X_ex = np.expand_dims(test_mfccs, -1)\n",
    "print('train X shape:', train_X_ex.shape)\n",
    "print('test X shape:', test_X_ex.shape)"
   ]
  },
  {
   "cell_type": "code",
   "execution_count": 8,
   "metadata": {
    "colab": {
     "base_uri": "https://localhost:8080/"
    },
    "id": "upr_TwiG6AdX",
    "outputId": "3ebe0397-fe8c-48e6-9077-40a26c0e84c1"
   },
   "outputs": [
    {
     "name": "stdout",
     "output_type": "stream",
     "text": [
      "Model: \"model\"\n",
      "_________________________________________________________________\n",
      " Layer (type)                Output Shape              Param #   \n",
      "=================================================================\n",
      " input_1 (InputLayer)        [(None, 100, 110, 1)]     0         \n",
      "                                                                 \n",
      " conv2d_2 (Conv2D)           (None, 97, 107, 96)       1632      \n",
      "                                                                 \n",
      " max_pooling2d_2 (MaxPooling  (None, 24, 26, 96)       0         \n",
      " 2D)                                                             \n",
      "                                                                 \n",
      " flatten (Flatten)           (None, 59904)             0         \n",
      "                                                                 \n",
      " dense (Dense)               (None, 64)                3833920   \n",
      "                                                                 \n",
      " dense_1 (Dense)             (None, 32)                2080      \n",
      "                                                                 \n",
      " dense_2 (Dense)             (None, 2)                 66        \n",
      "                                                                 \n",
      "=================================================================\n",
      "Total params: 3,837,698\n",
      "Trainable params: 3,837,698\n",
      "Non-trainable params: 0\n",
      "_________________________________________________________________\n"
     ]
    },
    {
     "name": "stderr",
     "output_type": "stream",
     "text": [
      "2022-09-27 06:15:20.820931: I tensorflow/stream_executor/cuda/cuda_gpu_executor.cc:980] successful NUMA node read from SysFS had negative value (-1), but there must be at least one NUMA node, so returning NUMA node zero\n",
      "2022-09-27 06:15:20.821700: I tensorflow/stream_executor/cuda/cuda_gpu_executor.cc:980] successful NUMA node read from SysFS had negative value (-1), but there must be at least one NUMA node, so returning NUMA node zero\n",
      "2022-09-27 06:15:20.822296: I tensorflow/stream_executor/cuda/cuda_gpu_executor.cc:980] successful NUMA node read from SysFS had negative value (-1), but there must be at least one NUMA node, so returning NUMA node zero\n",
      "2022-09-27 06:15:20.822861: I tensorflow/stream_executor/cuda/cuda_gpu_executor.cc:980] successful NUMA node read from SysFS had negative value (-1), but there must be at least one NUMA node, so returning NUMA node zero\n",
      "2022-09-27 06:15:20.823432: I tensorflow/stream_executor/cuda/cuda_gpu_executor.cc:980] successful NUMA node read from SysFS had negative value (-1), but there must be at least one NUMA node, so returning NUMA node zero\n",
      "2022-09-27 06:15:20.823998: I tensorflow/stream_executor/cuda/cuda_gpu_executor.cc:980] successful NUMA node read from SysFS had negative value (-1), but there must be at least one NUMA node, so returning NUMA node zero\n",
      "2022-09-27 06:15:20.824585: I tensorflow/stream_executor/cuda/cuda_gpu_executor.cc:980] successful NUMA node read from SysFS had negative value (-1), but there must be at least one NUMA node, so returning NUMA node zero\n",
      "2022-09-27 06:15:20.825159: I tensorflow/stream_executor/cuda/cuda_gpu_executor.cc:980] successful NUMA node read from SysFS had negative value (-1), but there must be at least one NUMA node, so returning NUMA node zero\n",
      "2022-09-27 06:15:20.825722: I tensorflow/stream_executor/cuda/cuda_gpu_executor.cc:980] successful NUMA node read from SysFS had negative value (-1), but there must be at least one NUMA node, so returning NUMA node zero\n",
      "2022-09-27 06:15:20.826294: I tensorflow/stream_executor/cuda/cuda_gpu_executor.cc:980] successful NUMA node read from SysFS had negative value (-1), but there must be at least one NUMA node, so returning NUMA node zero\n",
      "2022-09-27 06:15:20.865654: W tensorflow/stream_executor/platform/default/dso_loader.cc:64] Could not load dynamic library 'libcudnn.so.8'; dlerror: libcudnn.so.8: cannot open shared object file: No such file or directory\n",
      "2022-09-27 06:15:20.865675: W tensorflow/core/common_runtime/gpu/gpu_device.cc:1934] Cannot dlopen some GPU libraries. Please make sure the missing libraries mentioned above are installed properly if you would like to use GPU. Follow the guide at https://www.tensorflow.org/install/gpu for how to download and setup the required libraries for your platform.\n",
      "Skipping registering GPU devices...\n",
      "2022-09-27 06:15:20.866617: I tensorflow/core/platform/cpu_feature_guard.cc:193] This TensorFlow binary is optimized with oneAPI Deep Neural Network Library (oneDNN) to use the following CPU instructions in performance-critical operations:  AVX2 AVX512F FMA\n",
      "To enable them in other operations, rebuild TensorFlow with the appropriate compiler flags.\n"
     ]
    }
   ],
   "source": [
    "ip = Input(shape=train_X_ex[0].shape)\n",
    "\n",
    "m = tf.keras.layers.Conv2D(32, kernel_size=(4,4), activation='relu')(ip)\n",
    "m = tf.keras.layers.MaxPooling2D(pool_size=(4,4))(m)\n",
    "\n",
    "m = tf.keras.layers.Conv2D(32*2, kernel_size=(4,4), activation='relu')(ip)\n",
    "m = tf.keras.layers.MaxPooling2D(pool_size=(4,4))(m)\n",
    "\n",
    "m = tf.keras.layers.Conv2D(32*3, kernel_size=(4,4), activation='relu')(ip)\n",
    "m = tf.keras.layers.MaxPooling2D(pool_size=(4,4))(m)\n",
    "\n",
    "m = tf.keras.layers.Flatten()(m)\n",
    "\n",
    "m = Dense(64, activation='relu')(m)\n",
    "\n",
    "m = Dense(32, activation='relu')(m)\n",
    "\n",
    "op = Dense(2, activation='softmax')(m)\n",
    "\n",
    "model = tf.keras.Model(ip, op)\n",
    "\n",
    "model.summary()"
   ]
  },
  {
   "cell_type": "code",
   "execution_count": 9,
   "metadata": {
    "colab": {
     "base_uri": "https://localhost:8080/"
    },
    "id": "-l1a0pZd6jG4",
    "outputId": "d5e4c2d9-b9f8-4ad7-903f-23db5c07f383"
   },
   "outputs": [
    {
     "name": "stdout",
     "output_type": "stream",
     "text": [
      "Epoch 1/100\n",
      "63/63 [==============================] - 8s 115ms/step - loss: 0.8560 - accuracy: 0.5695 - val_loss: 0.6141 - val_accuracy: 0.7217 - lr: 1.0000e-04\n",
      "Epoch 2/100\n",
      "63/63 [==============================] - 6s 102ms/step - loss: 0.6119 - accuracy: 0.6700 - val_loss: 0.6951 - val_accuracy: 0.5217 - lr: 9.9975e-05\n",
      "Epoch 3/100\n",
      "63/63 [==============================] - 7s 109ms/step - loss: 0.5880 - accuracy: 0.6900 - val_loss: 0.9795 - val_accuracy: 0.5000 - lr: 9.9901e-05\n",
      "Epoch 4/100\n",
      "63/63 [==============================] - 6s 102ms/step - loss: 0.5184 - accuracy: 0.7665 - val_loss: 0.3704 - val_accuracy: 0.9283 - lr: 9.9778e-05\n",
      "Epoch 5/100\n",
      "63/63 [==============================] - 7s 106ms/step - loss: 0.4932 - accuracy: 0.7765 - val_loss: 0.4242 - val_accuracy: 0.7517 - lr: 9.9606e-05\n",
      "Epoch 6/100\n",
      "63/63 [==============================] - 7s 105ms/step - loss: 0.4504 - accuracy: 0.8090 - val_loss: 0.4539 - val_accuracy: 0.8083 - lr: 9.9384e-05\n",
      "Epoch 7/100\n",
      "63/63 [==============================] - 7s 111ms/step - loss: 0.4084 - accuracy: 0.8230 - val_loss: 0.3569 - val_accuracy: 0.8250 - lr: 9.9114e-05\n",
      "Epoch 8/100\n",
      "63/63 [==============================] - 6s 102ms/step - loss: 0.4197 - accuracy: 0.8045 - val_loss: 0.2966 - val_accuracy: 0.9400 - lr: 9.8796e-05\n",
      "Epoch 9/100\n",
      "63/63 [==============================] - 7s 106ms/step - loss: 0.3432 - accuracy: 0.8695 - val_loss: 0.3130 - val_accuracy: 0.9433 - lr: 9.8429e-05\n",
      "Epoch 10/100\n",
      "63/63 [==============================] - 7s 106ms/step - loss: 0.3376 - accuracy: 0.8655 - val_loss: 0.4624 - val_accuracy: 0.7800 - lr: 9.8015e-05\n",
      "Epoch 11/100\n",
      "63/63 [==============================] - 8s 122ms/step - loss: 0.3089 - accuracy: 0.8855 - val_loss: 0.3140 - val_accuracy: 0.8367 - lr: 9.7553e-05\n",
      "Epoch 12/100\n",
      "63/63 [==============================] - 7s 109ms/step - loss: 0.2940 - accuracy: 0.8910 - val_loss: 0.3755 - val_accuracy: 0.8300 - lr: 9.7044e-05\n",
      "Epoch 13/100\n",
      "63/63 [==============================] - 7s 116ms/step - loss: 0.2629 - accuracy: 0.9060 - val_loss: 0.2322 - val_accuracy: 0.9483 - lr: 9.6489e-05\n",
      "Epoch 14/100\n",
      "63/63 [==============================] - 7s 105ms/step - loss: 0.2513 - accuracy: 0.9100 - val_loss: 0.2579 - val_accuracy: 0.9067 - lr: 9.5888e-05\n",
      "Epoch 15/100\n",
      "63/63 [==============================] - 7s 116ms/step - loss: 0.2380 - accuracy: 0.9215 - val_loss: 0.2705 - val_accuracy: 0.9033 - lr: 9.5241e-05\n",
      "Epoch 16/100\n",
      "63/63 [==============================] - 7s 108ms/step - loss: 0.2446 - accuracy: 0.9120 - val_loss: 0.3351 - val_accuracy: 0.9083 - lr: 9.4550e-05\n",
      "Epoch 17/100\n",
      "63/63 [==============================] - 7s 118ms/step - loss: 0.2286 - accuracy: 0.9185 - val_loss: 0.2304 - val_accuracy: 0.9133 - lr: 9.3815e-05\n",
      "Epoch 18/100\n",
      "63/63 [==============================] - 7s 104ms/step - loss: 0.2183 - accuracy: 0.9255 - val_loss: 0.2337 - val_accuracy: 0.9200 - lr: 9.3037e-05\n",
      "Epoch 19/100\n",
      "63/63 [==============================] - 7s 112ms/step - loss: 0.1999 - accuracy: 0.9405 - val_loss: 0.2434 - val_accuracy: 0.9350 - lr: 9.2216e-05\n",
      "Epoch 20/100\n",
      "63/63 [==============================] - 7s 111ms/step - loss: 0.1837 - accuracy: 0.9450 - val_loss: 0.2749 - val_accuracy: 0.9317 - lr: 9.1354e-05\n",
      "Epoch 21/100\n",
      "63/63 [==============================] - 7s 113ms/step - loss: 0.1873 - accuracy: 0.9390 - val_loss: 0.2861 - val_accuracy: 0.9200 - lr: 9.0451e-05\n",
      "Epoch 22/100\n",
      "63/63 [==============================] - 6s 102ms/step - loss: 0.1791 - accuracy: 0.9455 - val_loss: 0.3145 - val_accuracy: 0.8750 - lr: 8.9508e-05\n",
      "Epoch 23/100\n",
      "63/63 [==============================] - 8s 131ms/step - loss: 0.1673 - accuracy: 0.9490 - val_loss: 0.2524 - val_accuracy: 0.9300 - lr: 8.8526e-05\n",
      "Epoch 24/100\n",
      "63/63 [==============================] - 7s 103ms/step - loss: 0.1717 - accuracy: 0.9425 - val_loss: 0.2749 - val_accuracy: 0.9283 - lr: 8.7506e-05\n",
      "Epoch 25/100\n",
      "63/63 [==============================] - 8s 120ms/step - loss: 0.1636 - accuracy: 0.9485 - val_loss: 0.2040 - val_accuracy: 0.9433 - lr: 8.6448e-05\n",
      "Epoch 26/100\n",
      "63/63 [==============================] - 6s 102ms/step - loss: 0.1548 - accuracy: 0.9500 - val_loss: 0.2177 - val_accuracy: 0.9417 - lr: 8.5355e-05\n",
      "Epoch 27/100\n",
      "63/63 [==============================] - 8s 120ms/step - loss: 0.1506 - accuracy: 0.9560 - val_loss: 0.2226 - val_accuracy: 0.9417 - lr: 8.4227e-05\n",
      "Epoch 28/100\n",
      "63/63 [==============================] - 7s 106ms/step - loss: 0.1409 - accuracy: 0.9620 - val_loss: 0.2015 - val_accuracy: 0.9333 - lr: 8.3066e-05\n",
      "Epoch 29/100\n",
      "63/63 [==============================] - 8s 120ms/step - loss: 0.1440 - accuracy: 0.9545 - val_loss: 0.2190 - val_accuracy: 0.9350 - lr: 8.1871e-05\n",
      "Epoch 30/100\n",
      "63/63 [==============================] - 6s 98ms/step - loss: 0.1467 - accuracy: 0.9520 - val_loss: 0.2978 - val_accuracy: 0.8883 - lr: 8.0645e-05\n",
      "Epoch 31/100\n",
      "63/63 [==============================] - 8s 123ms/step - loss: 0.1392 - accuracy: 0.9520 - val_loss: 0.2016 - val_accuracy: 0.9433 - lr: 7.9389e-05\n",
      "Epoch 32/100\n",
      "63/63 [==============================] - 6s 103ms/step - loss: 0.1332 - accuracy: 0.9590 - val_loss: 0.1992 - val_accuracy: 0.9417 - lr: 7.8104e-05\n",
      "Epoch 33/100\n",
      "63/63 [==============================] - 8s 123ms/step - loss: 0.1305 - accuracy: 0.9630 - val_loss: 0.2085 - val_accuracy: 0.9367 - lr: 7.6791e-05\n",
      "Epoch 34/100\n",
      "63/63 [==============================] - 6s 102ms/step - loss: 0.1294 - accuracy: 0.9585 - val_loss: 0.2237 - val_accuracy: 0.9467 - lr: 7.5452e-05\n",
      "Epoch 35/100\n",
      "63/63 [==============================] - 7s 119ms/step - loss: 0.1221 - accuracy: 0.9680 - val_loss: 0.2024 - val_accuracy: 0.9400 - lr: 7.4088e-05\n",
      "Epoch 36/100\n",
      "63/63 [==============================] - 6s 102ms/step - loss: 0.1218 - accuracy: 0.9635 - val_loss: 0.1814 - val_accuracy: 0.9450 - lr: 7.2700e-05\n",
      "Epoch 37/100\n",
      "63/63 [==============================] - 8s 121ms/step - loss: 0.1180 - accuracy: 0.9700 - val_loss: 0.2106 - val_accuracy: 0.9383 - lr: 7.1289e-05\n",
      "Epoch 38/100\n",
      "63/63 [==============================] - 7s 110ms/step - loss: 0.1176 - accuracy: 0.9665 - val_loss: 0.1968 - val_accuracy: 0.9367 - lr: 6.9857e-05\n",
      "Epoch 39/100\n",
      "63/63 [==============================] - 8s 126ms/step - loss: 0.1175 - accuracy: 0.9670 - val_loss: 0.2343 - val_accuracy: 0.9383 - lr: 6.8406e-05\n",
      "Epoch 40/100\n",
      "63/63 [==============================] - 7s 105ms/step - loss: 0.1145 - accuracy: 0.9650 - val_loss: 0.2694 - val_accuracy: 0.9033 - lr: 6.6937e-05\n",
      "Epoch 41/100\n",
      "63/63 [==============================] - 8s 127ms/step - loss: 0.1111 - accuracy: 0.9670 - val_loss: 0.2048 - val_accuracy: 0.9400 - lr: 6.5451e-05\n",
      "Epoch 42/100\n",
      "63/63 [==============================] - 6s 102ms/step - loss: 0.1104 - accuracy: 0.9675 - val_loss: 0.2617 - val_accuracy: 0.9083 - lr: 6.3950e-05\n",
      "Epoch 43/100\n",
      "63/63 [==============================] - 8s 125ms/step - loss: 0.1083 - accuracy: 0.9710 - val_loss: 0.2981 - val_accuracy: 0.8917 - lr: 6.2434e-05\n",
      "Epoch 44/100\n",
      "63/63 [==============================] - 6s 98ms/step - loss: 0.1091 - accuracy: 0.9720 - val_loss: 0.2616 - val_accuracy: 0.9083 - lr: 6.0907e-05\n",
      "Epoch 45/100\n",
      "63/63 [==============================] - 8s 122ms/step - loss: 0.1063 - accuracy: 0.9680 - val_loss: 0.2069 - val_accuracy: 0.9300 - lr: 5.9369e-05\n",
      "Epoch 46/100\n",
      "63/63 [==============================] - 6s 94ms/step - loss: 0.1041 - accuracy: 0.9715 - val_loss: 0.2152 - val_accuracy: 0.9450 - lr: 5.7822e-05\n",
      "Epoch 46: early stopping\n"
     ]
    }
   ],
   "source": [
    "cos_decay = tf.keras.experimental.CosineDecay(initial_learning_rate=0.0001, decay_steps=100, alpha=0.0)\n",
    "learning_rate_scheduler = LearningRateScheduler(cos_decay)\n",
    "early_stopping = EarlyStopping(monitor='val_loss', patience=10, verbose=1)\n",
    "best_model = ModelCheckpoint(filepath='best_model.h5',\n",
    "                                              monitor='val_loss',\n",
    "                                              save_best_only=True)\n",
    "model.compile(loss='binary_crossentropy',\n",
    "              optimizer='SGD',\n",
    "              metrics=['accuracy'])\n",
    "\n",
    "history = model.fit(train_X_ex,\n",
    "                    train_y,\n",
    "                    epochs=100,\n",
    "                    verbose=1,\n",
    "                    callbacks=[early_stopping, best_model, learning_rate_scheduler],\n",
    "                    validation_data=(test_X_ex, test_y))"
   ]
  },
  {
   "cell_type": "code",
   "execution_count": 10,
   "metadata": {
    "colab": {
     "base_uri": "https://localhost:8080/",
     "height": 297
    },
    "id": "CshOR3R67PBa",
    "outputId": "ef25958e-0159-484f-8d5b-5eb1ea46230c"
   },
   "outputs": [
    {
     "data": {
      "text/plain": [
       "<matplotlib.legend.Legend at 0x7fd689344be0>"
      ]
     },
     "execution_count": 10,
     "metadata": {},
     "output_type": "execute_result"
    },
    {
     "data": {
      "image/png": "[encoded data removed]",
      "text/plain": [
       "<Figure size 640x480 with 1 Axes>"
      ]
     },
     "metadata": {},
     "output_type": "display_data"
    }
   ],
   "source": [
    "plt.plot(history.history['accuracy'], label='Train Accuracy')\n",
    "plt.plot(history.history['val_accuracy'], label='Validation Accuracy')\n",
    "plt.plot(history.history['val_loss'], label='Validation Loss')\n",
    "plt.xlabel('Epochs')\n",
    "plt.ylabel('Accuracy')\n",
    "plt.legend()"
   ]
  },
  {
   "cell_type": "code",
   "execution_count": 14,
   "metadata": {
    "colab": {
     "base_uri": "https://localhost:8080/"
    },
    "id": "Yt3SUnZY7frY",
    "outputId": "67e02df8-6d0b-448f-911a-a630f2395244"
   },
   "outputs": [
    {
     "name": "stdout",
     "output_type": "stream",
     "text": [
      "1/1 [==============================] - 0s 109ms/step\n",
      "1/1 [==============================] - 0s 36ms/step\n",
      "1/1 [==============================] - 0s 61ms/step\n",
      "1/1 [==============================] - 0s 47ms/step\n",
      "1/1 [==============================] - 0s 71ms/step\n",
      "1/1 [==============================] - 0s 49ms/step\n",
      "1/1 [==============================] - 0s 47ms/step\n",
      "1/1 [==============================] - 0s 52ms/step\n",
      "1/1 [==============================] - 0s 42ms/step\n",
      "1/1 [==============================] - 0s 38ms/step\n",
      "1/1 [==============================] - 0s 47ms/step\n",
      "1/1 [==============================] - 0s 63ms/step\n",
      "1/1 [==============================] - 0s 40ms/step\n",
      "1/1 [==============================] - 0s 56ms/step\n",
      "1/1 [==============================] - 0s 38ms/step\n",
      "1/1 [==============================] - 0s 51ms/step\n",
      "1/1 [==============================] - 0s 49ms/step\n",
      "1/1 [==============================] - 0s 47ms/step\n",
      "1/1 [==============================] - 0s 47ms/step\n",
      "1/1 [==============================] - 0s 35ms/step\n",
      "1/1 [==============================] - 0s 39ms/step\n",
      "1/1 [==============================] - 0s 50ms/step\n",
      "1/1 [==============================] - 0s 44ms/step\n",
      "1/1 [==============================] - 0s 58ms/step\n",
      "1/1 [==============================] - 0s 35ms/step\n",
      "1/1 [==============================] - 0s 52ms/step\n",
      "1/1 [==============================] - 0s 102ms/step\n",
      "1/1 [==============================] - 0s 43ms/step\n",
      "1/1 [==============================] - 0s 34ms/step\n",
      "1/1 [==============================] - 0s 35ms/step\n",
      "1/1 [==============================] - 0s 34ms/step\n",
      "1/1 [==============================] - 0s 44ms/step\n",
      "1/1 [==============================] - 0s 40ms/step\n",
      "1/1 [==============================] - 0s 34ms/step\n",
      "1/1 [==============================] - 0s 43ms/step\n",
      "1/1 [==============================] - 0s 56ms/step\n",
      "1/1 [==============================] - 0s 31ms/step\n",
      "1/1 [==============================] - 0s 28ms/step\n",
      "1/1 [==============================] - 0s 31ms/step\n",
      "1/1 [==============================] - 0s 37ms/step\n",
      "1/1 [==============================] - 0s 34ms/step\n",
      "1/1 [==============================] - 0s 39ms/step\n",
      "1/1 [==============================] - 0s 38ms/step\n",
      "1/1 [==============================] - 0s 27ms/step\n",
      "1/1 [==============================] - 0s 31ms/step\n",
      "1/1 [==============================] - 0s 31ms/step\n",
      "1/1 [==============================] - 0s 29ms/step\n",
      "1/1 [==============================] - 0s 40ms/step\n",
      "1/1 [==============================] - 0s 36ms/step\n",
      "1/1 [==============================] - 0s 36ms/step\n",
      "응 : 2.0\n",
      "아니 :  98.0\n"
     ]
    }
   ],
   "source": [
    "# 샘플 오디오 데이터\n",
    "model = tf.keras.models.load_model('best_model.h5')\n",
    "DATA_DIR = './특화_음성/real_check/validation/'\n",
    "yes = 0\n",
    "no = 0\n",
    "for i in range(1,51):\n",
    "    if i < 10:\n",
    "        wav, sr = librosa.load(DATA_DIR + '아니130'+str(i)+'.wav', sr=16000)\n",
    "        mfcc = librosa.feature.mfcc(wav, sr=16000, n_mfcc=100, n_fft=400, hop_length=160)\n",
    "        padded_mfcc = pad2d(mfcc, 110)\n",
    "        padded_mfcc = np.expand_dims(padded_mfcc, 0)\n",
    "\n",
    "        result = model.predict(padded_mfcc)\n",
    "        if result[0][0] > result[0][1]: # 응\n",
    "            yes += 1 \n",
    "        else:\n",
    "            no += 1\n",
    "    else : \n",
    "        wav, sr = librosa.load(DATA_DIR + '아니13'+str(i)+'.wav', sr=16000)\n",
    "        mfcc = librosa.feature.mfcc(wav, sr=16000, n_mfcc=100, n_fft=400, hop_length=160)\n",
    "        padded_mfcc = pad2d(mfcc, 110)\n",
    "        padded_mfcc = np.expand_dims(padded_mfcc, 0)\n",
    "\n",
    "        result = model.predict(padded_mfcc)\n",
    "        if result[0][0] > result[0][1]: # 응\n",
    "            yes += 1 \n",
    "        else:\n",
    "            no += 1\n",
    "\n",
    "print('응 :', yes/50 * 100)\n",
    "print('아니 : ', no/50 * 100)"
   ]
  },
  {
   "cell_type": "code",
   "execution_count": 12,
   "metadata": {},
   "outputs": [
    {
     "name": "stdout",
     "output_type": "stream",
     "text": [
      "You must install pydot (`pip install pydot`) and install graphviz (see instructions at https://graphviz.gitlab.io/download/) for plot_model to work.\n"
     ]
    }
   ],
   "source": [
    "from keras.utils import plot_model\n",
    "plot_model(model, to_file='model.png')"
   ]
  },
  {
   "cell_type": "code",
   "execution_count": 13,
   "metadata": {
    "id": "8NSgVEeN8Q7H"
   },
   "outputs": [],
   "source": [
    "#model.save('./check_determine_model220920.h5')"
   ]
  },
  {
   "cell_type": "code",
   "execution_count": null,
   "metadata": {},
   "outputs": [],
   "source": []
  }
 ],
 "metadata": {
  "colab": {
   "provenance": []
  },
  "kernelspec": {
   "display_name": "Python 3 (ipykernel)",
   "language": "python",
   "name": "python3"
  },
  "language_info": {
   "codemirror_mode": {
    "name": "ipython",
    "version": 3
   },
   "file_extension": ".py",
   "mimetype": "text/x-python",
   "name": "python",
   "nbconvert_exporter": "python",
   "pygments_lexer": "ipython3",
   "version": "3.9.7"
  }
 },
 "nbformat": 4,
 "nbformat_minor": 1
}
