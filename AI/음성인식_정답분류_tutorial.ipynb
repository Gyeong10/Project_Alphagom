{
  "nbformat": 4,
  "nbformat_minor": 0,
  "metadata": {
    "colab": {
      "provenance": []
    },
    "kernelspec": {
      "name": "python3",
      "display_name": "Python 3"
    },
    "language_info": {
      "name": "python"
    }
  },
  "cells": [
    {
      "cell_type": "code",
      "execution_count": 1,
      "metadata": {
        "id": "bAEw7_omGSXh"
      },
      "outputs": [],
      "source": [
        "%matplotlib inline\n",
        "import matplotlib.pyplot as plt\n",
        "import os\n",
        "from scipy.io import wavfile\n",
        "from collections import defaultdict, Counter\n",
        "from scipy import signal\n",
        "import numpy as np\n",
        "import librosa\n",
        "import sklearn\n",
        "import random\n",
        "from unicodedata import normalize\n",
        "from keras.layers import Dense\n",
        "from keras import Input\n",
        "from keras_preprocessing.sequence import pad_sequences \n",
        "import tensorflow as tf"
      ]
    },
    {
      "cell_type": "code",
      "source": [
        "from google.colab import drive\n",
        "drive.mount('/content/drive')"
      ],
      "metadata": {
        "colab": {
          "base_uri": "https://localhost:8080/"
        },
        "id": "8knaRX6_H7mx",
        "outputId": "4422b170-03be-4b3b-845f-d40a3f16f29a"
      },
      "execution_count": 2,
      "outputs": [
        {
          "output_type": "stream",
          "name": "stdout",
          "text": [
            "Drive already mounted at /content/drive; to attempt to forcibly remount, call drive.mount(\"/content/drive\", force_remount=True).\n"
          ]
        }
      ]
    },
    {
      "cell_type": "code",
      "source": [
        "# 오디오 데이터\n",
        "DATA_DIR_TRAIN = '/content/drive/My Drive/특화_음성/tutorial/train_files/'\n",
        "DATA_DIR_TEST = '/content/drive/My Drive/특화_음성/tutorial/test_files/'"
      ],
      "metadata": {
        "id": "q0laA4zvJp3x"
      },
      "execution_count": 3,
      "outputs": []
    },
    {
      "cell_type": "code",
      "source": [
        "train_X = []\n",
        "train_spectrograms = []\n",
        "train_mel_spectograms = []\n",
        "train_mfccs = []\n",
        "train_y = []\n",
        "\n",
        "test_X = []\n",
        "test_spectrograms = []\n",
        "test_mel_spectograms = []\n",
        "test_mfccs = []\n",
        "test_y = []\n",
        "\n",
        "pad1d = lambda a, i: a[0: i] if a.shape[0] > i else np.hstack((a, np.zeros(i-a.shape[0])))\n",
        "pad2d = lambda a, i: a[:, 0:i] if a.shape[1] > i else np.hstack((a, np.zeros((a.shape[0], i-a.shape[1]))))\n",
        "\n",
        "# STFT 한 것, CNN 분석하기 위해 Spectogram으로 만든 것, MF한 것, mel0spectogram 한 것"
      ],
      "metadata": {
        "id": "b2CYnaiKNoGE"
      },
      "execution_count": 4,
      "outputs": []
    },
    {
      "cell_type": "code",
      "source": [
        "dataset0 = [] # 오답\n",
        "dataset1 = [] # 정답(인사 데이터)\n",
        "\n",
        "test_dataset = []\n",
        "train_dataset = []\n",
        "\n",
        "frame_length = 0.025\n",
        "frame_stride = 0.01\n",
        "sr=16000\n",
        "\n",
        "input_nfft = int(round(sr*frame_length))\n",
        "input_stride = int(round(sr*frame_stride))\n",
        "print(input_nfft,input_stride)"
      ],
      "metadata": {
        "colab": {
          "base_uri": "https://localhost:8080/"
        },
        "id": "MMVYxKIbvDH8",
        "outputId": "62ae905c-f258-4e03-e84e-d08b42a6c69c"
      },
      "execution_count": 5,
      "outputs": [
        {
          "output_type": "stream",
          "name": "stdout",
          "text": [
            "400 160\n"
          ]
        }
      ]
    },
    {
      "cell_type": "code",
      "source": [
        "#train data set\n",
        "for filename in os.listdir(DATA_DIR_TRAIN):\n",
        "  filename = normalize('NFC', filename) # 'ㅇㅡㅁ.wav' -> '음.wav'\n",
        "  try:\n",
        "    if '.wav' not in filename:\n",
        "      continue\n",
        "      \n",
        "    wav, sr = librosa.load(DATA_DIR_TRAIN + filename, sr=16000)\n",
        "  \n",
        "    mfcc = librosa.feature.mfcc(wav, sr=16000, n_mfcc=100, n_fft=input_nfft, hop_length=input_stride)\n",
        "    mfcc = sklearn.preprocessing.scale(mfcc, axis=1)\n",
        "    padded_mfcc = pad2d(mfcc, 300)\n",
        "\n",
        "    # 인사/비인사 구분하여 dataset에 추가\n",
        "    if filename[0] == '외':\n",
        "      train_dataset.append((padded_mfcc, 0))\n",
        "    else:\n",
        "      train_dataset.append((padded_mfcc, 1))\n",
        "  except Exception as e:\n",
        "    print(filename, e)\n",
        "    raise"
      ],
      "metadata": {
        "colab": {
          "base_uri": "https://localhost:8080/"
        },
        "id": "92UI8oZ5N6OQ",
        "outputId": "2e7702d2-38dc-4b57-8843-9e17238bb345"
      },
      "execution_count": 6,
      "outputs": [
        {
          "output_type": "stream",
          "name": "stderr",
          "text": [
            "/usr/local/lib/python3.7/dist-packages/sklearn/preprocessing/_data.py:236: UserWarning: Numerical issues were encountered when centering the data and might not be solved. Dataset may contain too large values. You may need to prescale your features.\n",
            "  \"Numerical issues were encountered \"\n",
            "/usr/local/lib/python3.7/dist-packages/sklearn/preprocessing/_data.py:255: UserWarning: Numerical issues were encountered when scaling the data and might not be solved. The standard deviation of the data is probably very close to 0. \n",
            "  \"Numerical issues were encountered \"\n",
            "/usr/local/lib/python3.7/dist-packages/sklearn/preprocessing/_data.py:236: UserWarning: Numerical issues were encountered when centering the data and might not be solved. Dataset may contain too large values. You may need to prescale your features.\n",
            "  \"Numerical issues were encountered \"\n",
            "/usr/local/lib/python3.7/dist-packages/sklearn/preprocessing/_data.py:255: UserWarning: Numerical issues were encountered when scaling the data and might not be solved. The standard deviation of the data is probably very close to 0. \n",
            "  \"Numerical issues were encountered \"\n",
            "/usr/local/lib/python3.7/dist-packages/sklearn/preprocessing/_data.py:236: UserWarning: Numerical issues were encountered when centering the data and might not be solved. Dataset may contain too large values. You may need to prescale your features.\n",
            "  \"Numerical issues were encountered \"\n",
            "/usr/local/lib/python3.7/dist-packages/sklearn/preprocessing/_data.py:255: UserWarning: Numerical issues were encountered when scaling the data and might not be solved. The standard deviation of the data is probably very close to 0. \n",
            "  \"Numerical issues were encountered \"\n",
            "/usr/local/lib/python3.7/dist-packages/sklearn/preprocessing/_data.py:236: UserWarning: Numerical issues were encountered when centering the data and might not be solved. Dataset may contain too large values. You may need to prescale your features.\n",
            "  \"Numerical issues were encountered \"\n",
            "/usr/local/lib/python3.7/dist-packages/sklearn/preprocessing/_data.py:255: UserWarning: Numerical issues were encountered when scaling the data and might not be solved. The standard deviation of the data is probably very close to 0. \n",
            "  \"Numerical issues were encountered \"\n",
            "/usr/local/lib/python3.7/dist-packages/sklearn/preprocessing/_data.py:236: UserWarning: Numerical issues were encountered when centering the data and might not be solved. Dataset may contain too large values. You may need to prescale your features.\n",
            "  \"Numerical issues were encountered \"\n",
            "/usr/local/lib/python3.7/dist-packages/sklearn/preprocessing/_data.py:255: UserWarning: Numerical issues were encountered when scaling the data and might not be solved. The standard deviation of the data is probably very close to 0. \n",
            "  \"Numerical issues were encountered \"\n",
            "/usr/local/lib/python3.7/dist-packages/sklearn/preprocessing/_data.py:236: UserWarning: Numerical issues were encountered when centering the data and might not be solved. Dataset may contain too large values. You may need to prescale your features.\n",
            "  \"Numerical issues were encountered \"\n",
            "/usr/local/lib/python3.7/dist-packages/sklearn/preprocessing/_data.py:255: UserWarning: Numerical issues were encountered when scaling the data and might not be solved. The standard deviation of the data is probably very close to 0. \n",
            "  \"Numerical issues were encountered \"\n",
            "/usr/local/lib/python3.7/dist-packages/sklearn/preprocessing/_data.py:236: UserWarning: Numerical issues were encountered when centering the data and might not be solved. Dataset may contain too large values. You may need to prescale your features.\n",
            "  \"Numerical issues were encountered \"\n",
            "/usr/local/lib/python3.7/dist-packages/sklearn/preprocessing/_data.py:255: UserWarning: Numerical issues were encountered when scaling the data and might not be solved. The standard deviation of the data is probably very close to 0. \n",
            "  \"Numerical issues were encountered \"\n",
            "/usr/local/lib/python3.7/dist-packages/sklearn/preprocessing/_data.py:236: UserWarning: Numerical issues were encountered when centering the data and might not be solved. Dataset may contain too large values. You may need to prescale your features.\n",
            "  \"Numerical issues were encountered \"\n",
            "/usr/local/lib/python3.7/dist-packages/sklearn/preprocessing/_data.py:255: UserWarning: Numerical issues were encountered when scaling the data and might not be solved. The standard deviation of the data is probably very close to 0. \n",
            "  \"Numerical issues were encountered \"\n",
            "/usr/local/lib/python3.7/dist-packages/sklearn/preprocessing/_data.py:236: UserWarning: Numerical issues were encountered when centering the data and might not be solved. Dataset may contain too large values. You may need to prescale your features.\n",
            "  \"Numerical issues were encountered \"\n",
            "/usr/local/lib/python3.7/dist-packages/sklearn/preprocessing/_data.py:255: UserWarning: Numerical issues were encountered when scaling the data and might not be solved. The standard deviation of the data is probably very close to 0. \n",
            "  \"Numerical issues were encountered \"\n",
            "/usr/local/lib/python3.7/dist-packages/sklearn/preprocessing/_data.py:236: UserWarning: Numerical issues were encountered when centering the data and might not be solved. Dataset may contain too large values. You may need to prescale your features.\n",
            "  \"Numerical issues were encountered \"\n",
            "/usr/local/lib/python3.7/dist-packages/sklearn/preprocessing/_data.py:255: UserWarning: Numerical issues were encountered when scaling the data and might not be solved. The standard deviation of the data is probably very close to 0. \n",
            "  \"Numerical issues were encountered \"\n",
            "/usr/local/lib/python3.7/dist-packages/sklearn/preprocessing/_data.py:236: UserWarning: Numerical issues were encountered when centering the data and might not be solved. Dataset may contain too large values. You may need to prescale your features.\n",
            "  \"Numerical issues were encountered \"\n",
            "/usr/local/lib/python3.7/dist-packages/sklearn/preprocessing/_data.py:255: UserWarning: Numerical issues were encountered when scaling the data and might not be solved. The standard deviation of the data is probably very close to 0. \n",
            "  \"Numerical issues were encountered \"\n",
            "/usr/local/lib/python3.7/dist-packages/sklearn/preprocessing/_data.py:236: UserWarning: Numerical issues were encountered when centering the data and might not be solved. Dataset may contain too large values. You may need to prescale your features.\n",
            "  \"Numerical issues were encountered \"\n",
            "/usr/local/lib/python3.7/dist-packages/sklearn/preprocessing/_data.py:255: UserWarning: Numerical issues were encountered when scaling the data and might not be solved. The standard deviation of the data is probably very close to 0. \n",
            "  \"Numerical issues were encountered \"\n",
            "/usr/local/lib/python3.7/dist-packages/sklearn/preprocessing/_data.py:236: UserWarning: Numerical issues were encountered when centering the data and might not be solved. Dataset may contain too large values. You may need to prescale your features.\n",
            "  \"Numerical issues were encountered \"\n",
            "/usr/local/lib/python3.7/dist-packages/sklearn/preprocessing/_data.py:255: UserWarning: Numerical issues were encountered when scaling the data and might not be solved. The standard deviation of the data is probably very close to 0. \n",
            "  \"Numerical issues were encountered \"\n",
            "/usr/local/lib/python3.7/dist-packages/sklearn/preprocessing/_data.py:236: UserWarning: Numerical issues were encountered when centering the data and might not be solved. Dataset may contain too large values. You may need to prescale your features.\n",
            "  \"Numerical issues were encountered \"\n",
            "/usr/local/lib/python3.7/dist-packages/sklearn/preprocessing/_data.py:255: UserWarning: Numerical issues were encountered when scaling the data and might not be solved. The standard deviation of the data is probably very close to 0. \n",
            "  \"Numerical issues were encountered \"\n",
            "/usr/local/lib/python3.7/dist-packages/sklearn/preprocessing/_data.py:236: UserWarning: Numerical issues were encountered when centering the data and might not be solved. Dataset may contain too large values. You may need to prescale your features.\n",
            "  \"Numerical issues were encountered \"\n",
            "/usr/local/lib/python3.7/dist-packages/sklearn/preprocessing/_data.py:255: UserWarning: Numerical issues were encountered when scaling the data and might not be solved. The standard deviation of the data is probably very close to 0. \n",
            "  \"Numerical issues were encountered \"\n",
            "/usr/local/lib/python3.7/dist-packages/sklearn/preprocessing/_data.py:236: UserWarning: Numerical issues were encountered when centering the data and might not be solved. Dataset may contain too large values. You may need to prescale your features.\n",
            "  \"Numerical issues were encountered \"\n",
            "/usr/local/lib/python3.7/dist-packages/sklearn/preprocessing/_data.py:255: UserWarning: Numerical issues were encountered when scaling the data and might not be solved. The standard deviation of the data is probably very close to 0. \n",
            "  \"Numerical issues were encountered \"\n",
            "/usr/local/lib/python3.7/dist-packages/sklearn/preprocessing/_data.py:236: UserWarning: Numerical issues were encountered when centering the data and might not be solved. Dataset may contain too large values. You may need to prescale your features.\n",
            "  \"Numerical issues were encountered \"\n",
            "/usr/local/lib/python3.7/dist-packages/sklearn/preprocessing/_data.py:255: UserWarning: Numerical issues were encountered when scaling the data and might not be solved. The standard deviation of the data is probably very close to 0. \n",
            "  \"Numerical issues were encountered \"\n",
            "/usr/local/lib/python3.7/dist-packages/sklearn/preprocessing/_data.py:236: UserWarning: Numerical issues were encountered when centering the data and might not be solved. Dataset may contain too large values. You may need to prescale your features.\n",
            "  \"Numerical issues were encountered \"\n",
            "/usr/local/lib/python3.7/dist-packages/sklearn/preprocessing/_data.py:255: UserWarning: Numerical issues were encountered when scaling the data and might not be solved. The standard deviation of the data is probably very close to 0. \n",
            "  \"Numerical issues were encountered \"\n",
            "/usr/local/lib/python3.7/dist-packages/sklearn/preprocessing/_data.py:236: UserWarning: Numerical issues were encountered when centering the data and might not be solved. Dataset may contain too large values. You may need to prescale your features.\n",
            "  \"Numerical issues were encountered \"\n",
            "/usr/local/lib/python3.7/dist-packages/sklearn/preprocessing/_data.py:255: UserWarning: Numerical issues were encountered when scaling the data and might not be solved. The standard deviation of the data is probably very close to 0. \n",
            "  \"Numerical issues were encountered \"\n",
            "/usr/local/lib/python3.7/dist-packages/sklearn/preprocessing/_data.py:236: UserWarning: Numerical issues were encountered when centering the data and might not be solved. Dataset may contain too large values. You may need to prescale your features.\n",
            "  \"Numerical issues were encountered \"\n",
            "/usr/local/lib/python3.7/dist-packages/sklearn/preprocessing/_data.py:255: UserWarning: Numerical issues were encountered when scaling the data and might not be solved. The standard deviation of the data is probably very close to 0. \n",
            "  \"Numerical issues were encountered \"\n",
            "/usr/local/lib/python3.7/dist-packages/sklearn/preprocessing/_data.py:236: UserWarning: Numerical issues were encountered when centering the data and might not be solved. Dataset may contain too large values. You may need to prescale your features.\n",
            "  \"Numerical issues were encountered \"\n",
            "/usr/local/lib/python3.7/dist-packages/sklearn/preprocessing/_data.py:255: UserWarning: Numerical issues were encountered when scaling the data and might not be solved. The standard deviation of the data is probably very close to 0. \n",
            "  \"Numerical issues were encountered \"\n",
            "/usr/local/lib/python3.7/dist-packages/sklearn/preprocessing/_data.py:236: UserWarning: Numerical issues were encountered when centering the data and might not be solved. Dataset may contain too large values. You may need to prescale your features.\n",
            "  \"Numerical issues were encountered \"\n",
            "/usr/local/lib/python3.7/dist-packages/sklearn/preprocessing/_data.py:255: UserWarning: Numerical issues were encountered when scaling the data and might not be solved. The standard deviation of the data is probably very close to 0. \n",
            "  \"Numerical issues were encountered \"\n",
            "/usr/local/lib/python3.7/dist-packages/sklearn/preprocessing/_data.py:236: UserWarning: Numerical issues were encountered when centering the data and might not be solved. Dataset may contain too large values. You may need to prescale your features.\n",
            "  \"Numerical issues were encountered \"\n",
            "/usr/local/lib/python3.7/dist-packages/sklearn/preprocessing/_data.py:255: UserWarning: Numerical issues were encountered when scaling the data and might not be solved. The standard deviation of the data is probably very close to 0. \n",
            "  \"Numerical issues were encountered \"\n",
            "/usr/local/lib/python3.7/dist-packages/sklearn/preprocessing/_data.py:236: UserWarning: Numerical issues were encountered when centering the data and might not be solved. Dataset may contain too large values. You may need to prescale your features.\n",
            "  \"Numerical issues were encountered \"\n",
            "/usr/local/lib/python3.7/dist-packages/sklearn/preprocessing/_data.py:255: UserWarning: Numerical issues were encountered when scaling the data and might not be solved. The standard deviation of the data is probably very close to 0. \n",
            "  \"Numerical issues were encountered \"\n",
            "/usr/local/lib/python3.7/dist-packages/sklearn/preprocessing/_data.py:236: UserWarning: Numerical issues were encountered when centering the data and might not be solved. Dataset may contain too large values. You may need to prescale your features.\n",
            "  \"Numerical issues were encountered \"\n",
            "/usr/local/lib/python3.7/dist-packages/sklearn/preprocessing/_data.py:255: UserWarning: Numerical issues were encountered when scaling the data and might not be solved. The standard deviation of the data is probably very close to 0. \n",
            "  \"Numerical issues were encountered \"\n",
            "/usr/local/lib/python3.7/dist-packages/sklearn/preprocessing/_data.py:236: UserWarning: Numerical issues were encountered when centering the data and might not be solved. Dataset may contain too large values. You may need to prescale your features.\n",
            "  \"Numerical issues were encountered \"\n",
            "/usr/local/lib/python3.7/dist-packages/sklearn/preprocessing/_data.py:255: UserWarning: Numerical issues were encountered when scaling the data and might not be solved. The standard deviation of the data is probably very close to 0. \n",
            "  \"Numerical issues were encountered \"\n",
            "/usr/local/lib/python3.7/dist-packages/sklearn/preprocessing/_data.py:236: UserWarning: Numerical issues were encountered when centering the data and might not be solved. Dataset may contain too large values. You may need to prescale your features.\n",
            "  \"Numerical issues were encountered \"\n",
            "/usr/local/lib/python3.7/dist-packages/sklearn/preprocessing/_data.py:255: UserWarning: Numerical issues were encountered when scaling the data and might not be solved. The standard deviation of the data is probably very close to 0. \n",
            "  \"Numerical issues were encountered \"\n",
            "/usr/local/lib/python3.7/dist-packages/sklearn/preprocessing/_data.py:236: UserWarning: Numerical issues were encountered when centering the data and might not be solved. Dataset may contain too large values. You may need to prescale your features.\n",
            "  \"Numerical issues were encountered \"\n",
            "/usr/local/lib/python3.7/dist-packages/sklearn/preprocessing/_data.py:255: UserWarning: Numerical issues were encountered when scaling the data and might not be solved. The standard deviation of the data is probably very close to 0. \n",
            "  \"Numerical issues were encountered \"\n",
            "/usr/local/lib/python3.7/dist-packages/sklearn/preprocessing/_data.py:236: UserWarning: Numerical issues were encountered when centering the data and might not be solved. Dataset may contain too large values. You may need to prescale your features.\n",
            "  \"Numerical issues were encountered \"\n",
            "/usr/local/lib/python3.7/dist-packages/sklearn/preprocessing/_data.py:255: UserWarning: Numerical issues were encountered when scaling the data and might not be solved. The standard deviation of the data is probably very close to 0. \n",
            "  \"Numerical issues were encountered \"\n",
            "/usr/local/lib/python3.7/dist-packages/sklearn/preprocessing/_data.py:236: UserWarning: Numerical issues were encountered when centering the data and might not be solved. Dataset may contain too large values. You may need to prescale your features.\n",
            "  \"Numerical issues were encountered \"\n",
            "/usr/local/lib/python3.7/dist-packages/sklearn/preprocessing/_data.py:255: UserWarning: Numerical issues were encountered when scaling the data and might not be solved. The standard deviation of the data is probably very close to 0. \n",
            "  \"Numerical issues were encountered \"\n",
            "/usr/local/lib/python3.7/dist-packages/sklearn/preprocessing/_data.py:236: UserWarning: Numerical issues were encountered when centering the data and might not be solved. Dataset may contain too large values. You may need to prescale your features.\n",
            "  \"Numerical issues were encountered \"\n",
            "/usr/local/lib/python3.7/dist-packages/sklearn/preprocessing/_data.py:255: UserWarning: Numerical issues were encountered when scaling the data and might not be solved. The standard deviation of the data is probably very close to 0. \n",
            "  \"Numerical issues were encountered \"\n",
            "/usr/local/lib/python3.7/dist-packages/sklearn/preprocessing/_data.py:236: UserWarning: Numerical issues were encountered when centering the data and might not be solved. Dataset may contain too large values. You may need to prescale your features.\n",
            "  \"Numerical issues were encountered \"\n",
            "/usr/local/lib/python3.7/dist-packages/sklearn/preprocessing/_data.py:255: UserWarning: Numerical issues were encountered when scaling the data and might not be solved. The standard deviation of the data is probably very close to 0. \n",
            "  \"Numerical issues were encountered \"\n",
            "/usr/local/lib/python3.7/dist-packages/sklearn/preprocessing/_data.py:236: UserWarning: Numerical issues were encountered when centering the data and might not be solved. Dataset may contain too large values. You may need to prescale your features.\n",
            "  \"Numerical issues were encountered \"\n",
            "/usr/local/lib/python3.7/dist-packages/sklearn/preprocessing/_data.py:255: UserWarning: Numerical issues were encountered when scaling the data and might not be solved. The standard deviation of the data is probably very close to 0. \n",
            "  \"Numerical issues were encountered \"\n",
            "/usr/local/lib/python3.7/dist-packages/sklearn/preprocessing/_data.py:236: UserWarning: Numerical issues were encountered when centering the data and might not be solved. Dataset may contain too large values. You may need to prescale your features.\n",
            "  \"Numerical issues were encountered \"\n",
            "/usr/local/lib/python3.7/dist-packages/sklearn/preprocessing/_data.py:255: UserWarning: Numerical issues were encountered when scaling the data and might not be solved. The standard deviation of the data is probably very close to 0. \n",
            "  \"Numerical issues were encountered \"\n",
            "/usr/local/lib/python3.7/dist-packages/sklearn/preprocessing/_data.py:236: UserWarning: Numerical issues were encountered when centering the data and might not be solved. Dataset may contain too large values. You may need to prescale your features.\n",
            "  \"Numerical issues were encountered \"\n",
            "/usr/local/lib/python3.7/dist-packages/sklearn/preprocessing/_data.py:255: UserWarning: Numerical issues were encountered when scaling the data and might not be solved. The standard deviation of the data is probably very close to 0. \n",
            "  \"Numerical issues were encountered \"\n",
            "/usr/local/lib/python3.7/dist-packages/sklearn/preprocessing/_data.py:236: UserWarning: Numerical issues were encountered when centering the data and might not be solved. Dataset may contain too large values. You may need to prescale your features.\n",
            "  \"Numerical issues were encountered \"\n",
            "/usr/local/lib/python3.7/dist-packages/sklearn/preprocessing/_data.py:255: UserWarning: Numerical issues were encountered when scaling the data and might not be solved. The standard deviation of the data is probably very close to 0. \n",
            "  \"Numerical issues were encountered \"\n",
            "/usr/local/lib/python3.7/dist-packages/sklearn/preprocessing/_data.py:236: UserWarning: Numerical issues were encountered when centering the data and might not be solved. Dataset may contain too large values. You may need to prescale your features.\n",
            "  \"Numerical issues were encountered \"\n",
            "/usr/local/lib/python3.7/dist-packages/sklearn/preprocessing/_data.py:255: UserWarning: Numerical issues were encountered when scaling the data and might not be solved. The standard deviation of the data is probably very close to 0. \n",
            "  \"Numerical issues were encountered \"\n",
            "/usr/local/lib/python3.7/dist-packages/sklearn/preprocessing/_data.py:236: UserWarning: Numerical issues were encountered when centering the data and might not be solved. Dataset may contain too large values. You may need to prescale your features.\n",
            "  \"Numerical issues were encountered \"\n",
            "/usr/local/lib/python3.7/dist-packages/sklearn/preprocessing/_data.py:255: UserWarning: Numerical issues were encountered when scaling the data and might not be solved. The standard deviation of the data is probably very close to 0. \n",
            "  \"Numerical issues were encountered \"\n",
            "/usr/local/lib/python3.7/dist-packages/sklearn/preprocessing/_data.py:236: UserWarning: Numerical issues were encountered when centering the data and might not be solved. Dataset may contain too large values. You may need to prescale your features.\n",
            "  \"Numerical issues were encountered \"\n",
            "/usr/local/lib/python3.7/dist-packages/sklearn/preprocessing/_data.py:255: UserWarning: Numerical issues were encountered when scaling the data and might not be solved. The standard deviation of the data is probably very close to 0. \n",
            "  \"Numerical issues were encountered \"\n",
            "/usr/local/lib/python3.7/dist-packages/sklearn/preprocessing/_data.py:236: UserWarning: Numerical issues were encountered when centering the data and might not be solved. Dataset may contain too large values. You may need to prescale your features.\n",
            "  \"Numerical issues were encountered \"\n",
            "/usr/local/lib/python3.7/dist-packages/sklearn/preprocessing/_data.py:255: UserWarning: Numerical issues were encountered when scaling the data and might not be solved. The standard deviation of the data is probably very close to 0. \n",
            "  \"Numerical issues were encountered \"\n",
            "/usr/local/lib/python3.7/dist-packages/sklearn/preprocessing/_data.py:236: UserWarning: Numerical issues were encountered when centering the data and might not be solved. Dataset may contain too large values. You may need to prescale your features.\n",
            "  \"Numerical issues were encountered \"\n",
            "/usr/local/lib/python3.7/dist-packages/sklearn/preprocessing/_data.py:255: UserWarning: Numerical issues were encountered when scaling the data and might not be solved. The standard deviation of the data is probably very close to 0. \n",
            "  \"Numerical issues were encountered \"\n",
            "/usr/local/lib/python3.7/dist-packages/sklearn/preprocessing/_data.py:236: UserWarning: Numerical issues were encountered when centering the data and might not be solved. Dataset may contain too large values. You may need to prescale your features.\n",
            "  \"Numerical issues were encountered \"\n",
            "/usr/local/lib/python3.7/dist-packages/sklearn/preprocessing/_data.py:255: UserWarning: Numerical issues were encountered when scaling the data and might not be solved. The standard deviation of the data is probably very close to 0. \n",
            "  \"Numerical issues were encountered \"\n",
            "/usr/local/lib/python3.7/dist-packages/sklearn/preprocessing/_data.py:236: UserWarning: Numerical issues were encountered when centering the data and might not be solved. Dataset may contain too large values. You may need to prescale your features.\n",
            "  \"Numerical issues were encountered \"\n",
            "/usr/local/lib/python3.7/dist-packages/sklearn/preprocessing/_data.py:255: UserWarning: Numerical issues were encountered when scaling the data and might not be solved. The standard deviation of the data is probably very close to 0. \n",
            "  \"Numerical issues were encountered \"\n",
            "/usr/local/lib/python3.7/dist-packages/sklearn/preprocessing/_data.py:236: UserWarning: Numerical issues were encountered when centering the data and might not be solved. Dataset may contain too large values. You may need to prescale your features.\n",
            "  \"Numerical issues were encountered \"\n",
            "/usr/local/lib/python3.7/dist-packages/sklearn/preprocessing/_data.py:255: UserWarning: Numerical issues were encountered when scaling the data and might not be solved. The standard deviation of the data is probably very close to 0. \n",
            "  \"Numerical issues were encountered \"\n",
            "/usr/local/lib/python3.7/dist-packages/sklearn/preprocessing/_data.py:236: UserWarning: Numerical issues were encountered when centering the data and might not be solved. Dataset may contain too large values. You may need to prescale your features.\n",
            "  \"Numerical issues were encountered \"\n",
            "/usr/local/lib/python3.7/dist-packages/sklearn/preprocessing/_data.py:255: UserWarning: Numerical issues were encountered when scaling the data and might not be solved. The standard deviation of the data is probably very close to 0. \n",
            "  \"Numerical issues were encountered \"\n",
            "/usr/local/lib/python3.7/dist-packages/sklearn/preprocessing/_data.py:236: UserWarning: Numerical issues were encountered when centering the data and might not be solved. Dataset may contain too large values. You may need to prescale your features.\n",
            "  \"Numerical issues were encountered \"\n",
            "/usr/local/lib/python3.7/dist-packages/sklearn/preprocessing/_data.py:255: UserWarning: Numerical issues were encountered when scaling the data and might not be solved. The standard deviation of the data is probably very close to 0. \n",
            "  \"Numerical issues were encountered \"\n",
            "/usr/local/lib/python3.7/dist-packages/sklearn/preprocessing/_data.py:236: UserWarning: Numerical issues were encountered when centering the data and might not be solved. Dataset may contain too large values. You may need to prescale your features.\n",
            "  \"Numerical issues were encountered \"\n",
            "/usr/local/lib/python3.7/dist-packages/sklearn/preprocessing/_data.py:255: UserWarning: Numerical issues were encountered when scaling the data and might not be solved. The standard deviation of the data is probably very close to 0. \n",
            "  \"Numerical issues were encountered \"\n",
            "/usr/local/lib/python3.7/dist-packages/sklearn/preprocessing/_data.py:236: UserWarning: Numerical issues were encountered when centering the data and might not be solved. Dataset may contain too large values. You may need to prescale your features.\n",
            "  \"Numerical issues were encountered \"\n",
            "/usr/local/lib/python3.7/dist-packages/sklearn/preprocessing/_data.py:255: UserWarning: Numerical issues were encountered when scaling the data and might not be solved. The standard deviation of the data is probably very close to 0. \n",
            "  \"Numerical issues were encountered \"\n"
          ]
        }
      ]
    },
    {
      "cell_type": "code",
      "source": [
        "padded_mfcc.shape"
      ],
      "metadata": {
        "colab": {
          "base_uri": "https://localhost:8080/"
        },
        "id": "jmXAX-MsjnTz",
        "outputId": "29ded3e3-d1aa-496a-81ce-ce2a1cf4fc3f"
      },
      "execution_count": 7,
      "outputs": [
        {
          "output_type": "execute_result",
          "data": {
            "text/plain": [
              "(100, 300)"
            ]
          },
          "metadata": {},
          "execution_count": 7
        }
      ]
    },
    {
      "cell_type": "code",
      "source": [
        "# test data set\n",
        "for filename in os.listdir(DATA_DIR_TEST):\n",
        "  filename = normalize('NFC', filename)\n",
        "  try:\n",
        "    if '.wav' not in filename:\n",
        "      continue\n",
        "      \n",
        "    wav, sr = librosa.load(DATA_DIR_TEST + filename, sr=16000)\n",
        "\n",
        "    input_nfft = int(round(sr*frame_length))\n",
        "    input_stride = int(round(sr*frame_stride))\n",
        "  \n",
        "    mfcc = librosa.feature.mfcc(wav, sr=16000, n_mfcc=100, n_fft=input_nfft, hop_length=input_stride)\n",
        "    mfcc = sklearn.preprocessing.scale(mfcc, axis=1)\n",
        "    padded_mfcc = pad2d(mfcc, 300)\n",
        "\n",
        "    # 인사/비인사 구분하여 dataset에 추가\n",
        "    if filename[0] == '외':\n",
        "      test_dataset.append((padded_mfcc, 0))\n",
        "    else:\n",
        "      test_dataset.append((padded_mfcc, 1))\n",
        "  except Exception as e:\n",
        "    print(filename, e)\n",
        "    raise"
      ],
      "metadata": {
        "colab": {
          "base_uri": "https://localhost:8080/"
        },
        "id": "08GeZeTVTGbL",
        "outputId": "64577d9a-4d07-4137-8071-eafa8498b67f"
      },
      "execution_count": 8,
      "outputs": [
        {
          "output_type": "stream",
          "name": "stderr",
          "text": [
            "/usr/local/lib/python3.7/dist-packages/sklearn/preprocessing/_data.py:236: UserWarning: Numerical issues were encountered when centering the data and might not be solved. Dataset may contain too large values. You may need to prescale your features.\n",
            "  \"Numerical issues were encountered \"\n",
            "/usr/local/lib/python3.7/dist-packages/sklearn/preprocessing/_data.py:255: UserWarning: Numerical issues were encountered when scaling the data and might not be solved. The standard deviation of the data is probably very close to 0. \n",
            "  \"Numerical issues were encountered \"\n",
            "/usr/local/lib/python3.7/dist-packages/sklearn/preprocessing/_data.py:236: UserWarning: Numerical issues were encountered when centering the data and might not be solved. Dataset may contain too large values. You may need to prescale your features.\n",
            "  \"Numerical issues were encountered \"\n",
            "/usr/local/lib/python3.7/dist-packages/sklearn/preprocessing/_data.py:255: UserWarning: Numerical issues were encountered when scaling the data and might not be solved. The standard deviation of the data is probably very close to 0. \n",
            "  \"Numerical issues were encountered \"\n",
            "/usr/local/lib/python3.7/dist-packages/sklearn/preprocessing/_data.py:236: UserWarning: Numerical issues were encountered when centering the data and might not be solved. Dataset may contain too large values. You may need to prescale your features.\n",
            "  \"Numerical issues were encountered \"\n",
            "/usr/local/lib/python3.7/dist-packages/sklearn/preprocessing/_data.py:255: UserWarning: Numerical issues were encountered when scaling the data and might not be solved. The standard deviation of the data is probably very close to 0. \n",
            "  \"Numerical issues were encountered \"\n",
            "/usr/local/lib/python3.7/dist-packages/sklearn/preprocessing/_data.py:236: UserWarning: Numerical issues were encountered when centering the data and might not be solved. Dataset may contain too large values. You may need to prescale your features.\n",
            "  \"Numerical issues were encountered \"\n",
            "/usr/local/lib/python3.7/dist-packages/sklearn/preprocessing/_data.py:255: UserWarning: Numerical issues were encountered when scaling the data and might not be solved. The standard deviation of the data is probably very close to 0. \n",
            "  \"Numerical issues were encountered \"\n",
            "/usr/local/lib/python3.7/dist-packages/sklearn/preprocessing/_data.py:236: UserWarning: Numerical issues were encountered when centering the data and might not be solved. Dataset may contain too large values. You may need to prescale your features.\n",
            "  \"Numerical issues were encountered \"\n",
            "/usr/local/lib/python3.7/dist-packages/sklearn/preprocessing/_data.py:255: UserWarning: Numerical issues were encountered when scaling the data and might not be solved. The standard deviation of the data is probably very close to 0. \n",
            "  \"Numerical issues were encountered \"\n",
            "/usr/local/lib/python3.7/dist-packages/sklearn/preprocessing/_data.py:236: UserWarning: Numerical issues were encountered when centering the data and might not be solved. Dataset may contain too large values. You may need to prescale your features.\n",
            "  \"Numerical issues were encountered \"\n",
            "/usr/local/lib/python3.7/dist-packages/sklearn/preprocessing/_data.py:255: UserWarning: Numerical issues were encountered when scaling the data and might not be solved. The standard deviation of the data is probably very close to 0. \n",
            "  \"Numerical issues were encountered \"\n",
            "/usr/local/lib/python3.7/dist-packages/sklearn/preprocessing/_data.py:236: UserWarning: Numerical issues were encountered when centering the data and might not be solved. Dataset may contain too large values. You may need to prescale your features.\n",
            "  \"Numerical issues were encountered \"\n",
            "/usr/local/lib/python3.7/dist-packages/sklearn/preprocessing/_data.py:255: UserWarning: Numerical issues were encountered when scaling the data and might not be solved. The standard deviation of the data is probably very close to 0. \n",
            "  \"Numerical issues were encountered \"\n",
            "/usr/local/lib/python3.7/dist-packages/sklearn/preprocessing/_data.py:236: UserWarning: Numerical issues were encountered when centering the data and might not be solved. Dataset may contain too large values. You may need to prescale your features.\n",
            "  \"Numerical issues were encountered \"\n",
            "/usr/local/lib/python3.7/dist-packages/sklearn/preprocessing/_data.py:255: UserWarning: Numerical issues were encountered when scaling the data and might not be solved. The standard deviation of the data is probably very close to 0. \n",
            "  \"Numerical issues were encountered \"\n",
            "/usr/local/lib/python3.7/dist-packages/sklearn/preprocessing/_data.py:236: UserWarning: Numerical issues were encountered when centering the data and might not be solved. Dataset may contain too large values. You may need to prescale your features.\n",
            "  \"Numerical issues were encountered \"\n",
            "/usr/local/lib/python3.7/dist-packages/sklearn/preprocessing/_data.py:255: UserWarning: Numerical issues were encountered when scaling the data and might not be solved. The standard deviation of the data is probably very close to 0. \n",
            "  \"Numerical issues were encountered \"\n",
            "/usr/local/lib/python3.7/dist-packages/sklearn/preprocessing/_data.py:236: UserWarning: Numerical issues were encountered when centering the data and might not be solved. Dataset may contain too large values. You may need to prescale your features.\n",
            "  \"Numerical issues were encountered \"\n",
            "/usr/local/lib/python3.7/dist-packages/sklearn/preprocessing/_data.py:255: UserWarning: Numerical issues were encountered when scaling the data and might not be solved. The standard deviation of the data is probably very close to 0. \n",
            "  \"Numerical issues were encountered \"\n",
            "/usr/local/lib/python3.7/dist-packages/sklearn/preprocessing/_data.py:236: UserWarning: Numerical issues were encountered when centering the data and might not be solved. Dataset may contain too large values. You may need to prescale your features.\n",
            "  \"Numerical issues were encountered \"\n",
            "/usr/local/lib/python3.7/dist-packages/sklearn/preprocessing/_data.py:255: UserWarning: Numerical issues were encountered when scaling the data and might not be solved. The standard deviation of the data is probably very close to 0. \n",
            "  \"Numerical issues were encountered \"\n",
            "/usr/local/lib/python3.7/dist-packages/sklearn/preprocessing/_data.py:236: UserWarning: Numerical issues were encountered when centering the data and might not be solved. Dataset may contain too large values. You may need to prescale your features.\n",
            "  \"Numerical issues were encountered \"\n",
            "/usr/local/lib/python3.7/dist-packages/sklearn/preprocessing/_data.py:255: UserWarning: Numerical issues were encountered when scaling the data and might not be solved. The standard deviation of the data is probably very close to 0. \n",
            "  \"Numerical issues were encountered \"\n",
            "/usr/local/lib/python3.7/dist-packages/sklearn/preprocessing/_data.py:236: UserWarning: Numerical issues were encountered when centering the data and might not be solved. Dataset may contain too large values. You may need to prescale your features.\n",
            "  \"Numerical issues were encountered \"\n",
            "/usr/local/lib/python3.7/dist-packages/sklearn/preprocessing/_data.py:255: UserWarning: Numerical issues were encountered when scaling the data and might not be solved. The standard deviation of the data is probably very close to 0. \n",
            "  \"Numerical issues were encountered \"\n",
            "/usr/local/lib/python3.7/dist-packages/sklearn/preprocessing/_data.py:236: UserWarning: Numerical issues were encountered when centering the data and might not be solved. Dataset may contain too large values. You may need to prescale your features.\n",
            "  \"Numerical issues were encountered \"\n",
            "/usr/local/lib/python3.7/dist-packages/sklearn/preprocessing/_data.py:255: UserWarning: Numerical issues were encountered when scaling the data and might not be solved. The standard deviation of the data is probably very close to 0. \n",
            "  \"Numerical issues were encountered \"\n",
            "/usr/local/lib/python3.7/dist-packages/sklearn/preprocessing/_data.py:236: UserWarning: Numerical issues were encountered when centering the data and might not be solved. Dataset may contain too large values. You may need to prescale your features.\n",
            "  \"Numerical issues were encountered \"\n",
            "/usr/local/lib/python3.7/dist-packages/sklearn/preprocessing/_data.py:255: UserWarning: Numerical issues were encountered when scaling the data and might not be solved. The standard deviation of the data is probably very close to 0. \n",
            "  \"Numerical issues were encountered \"\n",
            "/usr/local/lib/python3.7/dist-packages/sklearn/preprocessing/_data.py:236: UserWarning: Numerical issues were encountered when centering the data and might not be solved. Dataset may contain too large values. You may need to prescale your features.\n",
            "  \"Numerical issues were encountered \"\n",
            "/usr/local/lib/python3.7/dist-packages/sklearn/preprocessing/_data.py:255: UserWarning: Numerical issues were encountered when scaling the data and might not be solved. The standard deviation of the data is probably very close to 0. \n",
            "  \"Numerical issues were encountered \"\n"
          ]
        }
      ]
    },
    {
      "cell_type": "code",
      "source": [
        "# 데이터셋을 셔플\n",
        "import random\n",
        "random.shuffle(test_dataset)\n",
        "random.shuffle(train_dataset)\n",
        "\n",
        "train_mfccs = [a for (a,b) in train_dataset]\n",
        "train_y = [b for (a,b) in train_dataset]\n",
        "\n",
        "test_mfccs = [a for (a,b) in test_dataset]\n",
        "test_y = [b for (a,b) in test_dataset]\n",
        "\n",
        "train_mfccs = np.array(train_mfccs)\n",
        "train_y = tf.keras.utils.to_categorical(np.array(train_y))\n",
        "\n",
        "test_mfccs = np.array(test_mfccs)\n",
        "test_y = tf.keras.utils.to_categorical(np.array(test_y))\n",
        "\n",
        "print('train_mfccs:', train_mfccs.shape)\n",
        "print('train_y:', train_y.shape)\n",
        "\n",
        "print('test_mfccs:', test_mfccs.shape)\n",
        "print('test_y:', test_y.shape)"
      ],
      "metadata": {
        "colab": {
          "base_uri": "https://localhost:8080/"
        },
        "id": "ZxKmdLPD5z7U",
        "outputId": "8b138e7a-aac2-4dee-af73-b48ed16b7836"
      },
      "execution_count": 9,
      "outputs": [
        {
          "output_type": "stream",
          "name": "stdout",
          "text": [
            "train_mfccs: (48, 100, 300)\n",
            "train_y: (48, 2)\n",
            "test_mfccs: (16, 100, 300)\n",
            "test_y: (16, 2)\n"
          ]
        }
      ]
    },
    {
      "cell_type": "code",
      "source": [
        "# MFCC feature로 학습\n",
        "train_X_ex = np.expand_dims(train_mfccs, -1)\n",
        "test_X_ex = np.expand_dims(test_mfccs, -1)\n",
        "print('train X shape:', train_X_ex.shape)\n",
        "print('test X shape:', test_X_ex.shape)"
      ],
      "metadata": {
        "colab": {
          "base_uri": "https://localhost:8080/"
        },
        "id": "upr_TwiG6AdX",
        "outputId": "fca55a0f-ea22-4baf-b955-bea6802122a0"
      },
      "execution_count": 10,
      "outputs": [
        {
          "output_type": "stream",
          "name": "stdout",
          "text": [
            "train X shape: (48, 100, 300, 1)\n",
            "test X shape: (16, 100, 300, 1)\n"
          ]
        }
      ]
    },
    {
      "cell_type": "code",
      "source": [
        "ip = Input(shape=train_X_ex[0].shape)\n",
        "\n",
        "m = tf.keras.layers.Conv2D(32, kernel_size=(4,4), activation='relu')(ip)\n",
        "#m = tf.keras.layers.BatchNormalization()(m)\n",
        "m = tf.keras.layers.MaxPooling2D(pool_size=(4,4))(m)\n",
        "\n",
        "m =tf.keras.layers.Conv2D(32*2, kernel_size=(4,4), activation='relu')(ip)\n",
        "#m = tf.keras.layers.BatchNormalization()(m)\n",
        "m = tf.keras.layers.MaxPooling2D(pool_size=(4,4))(m)\n",
        "\n",
        "m = tf.keras.layers.Conv2D(32*3, kernel_size=(4,4), activation='relu')(ip)\n",
        "#m = tf.keras.layers.BatchNormalization()(m)\n",
        "m = tf.keras.layers.MaxPooling2D(pool_size=(4,4))(m)\n",
        "\n",
        "m = tf.keras.layers.Flatten()(m)\n",
        "\n",
        "m = Dense(32)(m)\n",
        "#m = tf.keras.layers.BatchNormalization()(m)\n",
        "m = tf.keras.layers.Activation(\"relu\")(m)\n",
        "\n",
        "op = Dense(2, activation='softmax')(m)\n",
        "\n",
        "model = tf.keras.Model(ip, op)\n",
        "\n",
        "model.summary()"
      ],
      "metadata": {
        "colab": {
          "base_uri": "https://localhost:8080/"
        },
        "id": "-l1a0pZd6jG4",
        "outputId": "749c5850-22a2-46b2-f779-36ced0cbcdc5"
      },
      "execution_count": 11,
      "outputs": [
        {
          "output_type": "stream",
          "name": "stdout",
          "text": [
            "Model: \"model\"\n",
            "_________________________________________________________________\n",
            " Layer (type)                Output Shape              Param #   \n",
            "=================================================================\n",
            " input_1 (InputLayer)        [(None, 100, 300, 1)]     0         \n",
            "                                                                 \n",
            " conv2d_2 (Conv2D)           (None, 97, 297, 96)       1632      \n",
            "                                                                 \n",
            " max_pooling2d_2 (MaxPooling  (None, 24, 74, 96)       0         \n",
            " 2D)                                                             \n",
            "                                                                 \n",
            " flatten (Flatten)           (None, 170496)            0         \n",
            "                                                                 \n",
            " dense (Dense)               (None, 32)                5455904   \n",
            "                                                                 \n",
            " activation (Activation)     (None, 32)                0         \n",
            "                                                                 \n",
            " dense_1 (Dense)             (None, 2)                 66        \n",
            "                                                                 \n",
            "=================================================================\n",
            "Total params: 5,457,602\n",
            "Trainable params: 5,457,602\n",
            "Non-trainable params: 0\n",
            "_________________________________________________________________\n"
          ]
        }
      ]
    },
    {
      "cell_type": "code",
      "source": [
        "model.compile(loss='categorical_crossentropy',\n",
        "              optimizer='adam',\n",
        "              metrics=['accuracy'])\n",
        "\n",
        "history = model.fit(train_X_ex,\n",
        "                    train_y,\n",
        "                    epochs=100,\n",
        "                    batch_size=32,\n",
        "                    verbose=1,\n",
        "                    validation_data=(test_X_ex, test_y))"
      ],
      "metadata": {
        "colab": {
          "base_uri": "https://localhost:8080/"
        },
        "id": "bDe8EMwI7ITV",
        "outputId": "2853d91a-cd44-4df0-991e-03ddbff674ec"
      },
      "execution_count": 12,
      "outputs": [
        {
          "output_type": "stream",
          "name": "stdout",
          "text": [
            "Epoch 1/100\n",
            "2/2 [==============================] - 3s 826ms/step - loss: 9.5734 - accuracy: 0.5417 - val_loss: 2.0015 - val_accuracy: 0.3750\n",
            "Epoch 2/100\n",
            "2/2 [==============================] - 2s 619ms/step - loss: 2.9715 - accuracy: 0.5000 - val_loss: 6.4066 - val_accuracy: 0.3750\n",
            "Epoch 3/100\n",
            "2/2 [==============================] - 2s 625ms/step - loss: 7.6185 - accuracy: 0.5000 - val_loss: 2.8418 - val_accuracy: 0.6250\n",
            "Epoch 4/100\n",
            "2/2 [==============================] - 2s 607ms/step - loss: 2.1466 - accuracy: 0.5833 - val_loss: 2.6699 - val_accuracy: 0.6250\n",
            "Epoch 5/100\n",
            "2/2 [==============================] - 2s 623ms/step - loss: 0.7444 - accuracy: 0.7708 - val_loss: 1.9170 - val_accuracy: 0.6875\n",
            "Epoch 6/100\n",
            "2/2 [==============================] - 2s 622ms/step - loss: 1.9324 - accuracy: 0.6250 - val_loss: 2.6248 - val_accuracy: 0.6250\n",
            "Epoch 7/100\n",
            "2/2 [==============================] - 2s 624ms/step - loss: 1.3703 - accuracy: 0.6875 - val_loss: 2.4026 - val_accuracy: 0.6250\n",
            "Epoch 8/100\n",
            "2/2 [==============================] - 2s 621ms/step - loss: 0.4517 - accuracy: 0.8542 - val_loss: 1.4969 - val_accuracy: 0.6875\n",
            "Epoch 9/100\n",
            "2/2 [==============================] - 2s 625ms/step - loss: 0.7695 - accuracy: 0.7500 - val_loss: 1.0232 - val_accuracy: 0.6875\n",
            "Epoch 10/100\n",
            "2/2 [==============================] - 2s 647ms/step - loss: 0.0890 - accuracy: 0.9583 - val_loss: 1.6728 - val_accuracy: 0.5625\n",
            "Epoch 11/100\n",
            "2/2 [==============================] - 2s 633ms/step - loss: 0.1435 - accuracy: 0.9167 - val_loss: 1.9790 - val_accuracy: 0.6250\n",
            "Epoch 12/100\n",
            "2/2 [==============================] - 2s 619ms/step - loss: 0.1682 - accuracy: 0.9167 - val_loss: 1.0910 - val_accuracy: 0.5625\n",
            "Epoch 13/100\n",
            "2/2 [==============================] - 2s 605ms/step - loss: 0.0315 - accuracy: 0.9792 - val_loss: 1.4037 - val_accuracy: 0.6875\n",
            "Epoch 14/100\n",
            "2/2 [==============================] - 2s 613ms/step - loss: 0.0838 - accuracy: 0.9583 - val_loss: 1.5264 - val_accuracy: 0.6875\n",
            "Epoch 15/100\n",
            "2/2 [==============================] - 2s 600ms/step - loss: 0.0835 - accuracy: 0.9792 - val_loss: 1.1829 - val_accuracy: 0.6875\n",
            "Epoch 16/100\n",
            "2/2 [==============================] - 2s 645ms/step - loss: 0.0233 - accuracy: 0.9792 - val_loss: 0.9997 - val_accuracy: 0.5625\n",
            "Epoch 17/100\n",
            "2/2 [==============================] - 2s 649ms/step - loss: 0.0030 - accuracy: 1.0000 - val_loss: 1.1492 - val_accuracy: 0.6250\n",
            "Epoch 18/100\n",
            "2/2 [==============================] - 2s 627ms/step - loss: 0.0057 - accuracy: 1.0000 - val_loss: 1.4088 - val_accuracy: 0.6250\n",
            "Epoch 19/100\n",
            "2/2 [==============================] - 2s 616ms/step - loss: 0.0168 - accuracy: 1.0000 - val_loss: 1.5371 - val_accuracy: 0.6250\n",
            "Epoch 20/100\n",
            "2/2 [==============================] - 2s 620ms/step - loss: 0.0225 - accuracy: 1.0000 - val_loss: 1.4431 - val_accuracy: 0.6250\n",
            "Epoch 21/100\n",
            "2/2 [==============================] - 2s 610ms/step - loss: 0.0102 - accuracy: 1.0000 - val_loss: 1.2529 - val_accuracy: 0.5625\n",
            "Epoch 22/100\n",
            "2/2 [==============================] - 2s 620ms/step - loss: 0.0038 - accuracy: 1.0000 - val_loss: 1.0984 - val_accuracy: 0.6250\n",
            "Epoch 23/100\n",
            "2/2 [==============================] - 2s 622ms/step - loss: 0.0012 - accuracy: 1.0000 - val_loss: 1.0290 - val_accuracy: 0.6250\n",
            "Epoch 24/100\n",
            "2/2 [==============================] - 2s 622ms/step - loss: 7.2733e-04 - accuracy: 1.0000 - val_loss: 1.0207 - val_accuracy: 0.5625\n",
            "Epoch 25/100\n",
            "2/2 [==============================] - 2s 625ms/step - loss: 0.0011 - accuracy: 1.0000 - val_loss: 1.0468 - val_accuracy: 0.5625\n",
            "Epoch 26/100\n",
            "2/2 [==============================] - 2s 638ms/step - loss: 0.0016 - accuracy: 1.0000 - val_loss: 1.0806 - val_accuracy: 0.6875\n",
            "Epoch 27/100\n",
            "2/2 [==============================] - 2s 630ms/step - loss: 0.0022 - accuracy: 1.0000 - val_loss: 1.1049 - val_accuracy: 0.6875\n",
            "Epoch 28/100\n",
            "2/2 [==============================] - 2s 636ms/step - loss: 0.0026 - accuracy: 1.0000 - val_loss: 1.1122 - val_accuracy: 0.6875\n",
            "Epoch 29/100\n",
            "2/2 [==============================] - 2s 631ms/step - loss: 0.0026 - accuracy: 1.0000 - val_loss: 1.1004 - val_accuracy: 0.6875\n",
            "Epoch 30/100\n",
            "2/2 [==============================] - 2s 639ms/step - loss: 0.0022 - accuracy: 1.0000 - val_loss: 1.0775 - val_accuracy: 0.6250\n",
            "Epoch 31/100\n",
            "2/2 [==============================] - 2s 619ms/step - loss: 0.0017 - accuracy: 1.0000 - val_loss: 1.0564 - val_accuracy: 0.5625\n",
            "Epoch 32/100\n",
            "2/2 [==============================] - 2s 608ms/step - loss: 0.0012 - accuracy: 1.0000 - val_loss: 1.0414 - val_accuracy: 0.5625\n",
            "Epoch 33/100\n",
            "2/2 [==============================] - 2s 620ms/step - loss: 8.6723e-04 - accuracy: 1.0000 - val_loss: 1.0334 - val_accuracy: 0.5625\n",
            "Epoch 34/100\n",
            "2/2 [==============================] - 2s 617ms/step - loss: 6.6852e-04 - accuracy: 1.0000 - val_loss: 1.0317 - val_accuracy: 0.6250\n",
            "Epoch 35/100\n",
            "2/2 [==============================] - 2s 653ms/step - loss: 5.3793e-04 - accuracy: 1.0000 - val_loss: 1.0351 - val_accuracy: 0.6250\n",
            "Epoch 36/100\n",
            "2/2 [==============================] - 2s 626ms/step - loss: 4.7445e-04 - accuracy: 1.0000 - val_loss: 1.0416 - val_accuracy: 0.6875\n",
            "Epoch 37/100\n",
            "2/2 [==============================] - 2s 662ms/step - loss: 4.2888e-04 - accuracy: 1.0000 - val_loss: 1.0496 - val_accuracy: 0.6250\n",
            "Epoch 38/100\n",
            "2/2 [==============================] - 2s 607ms/step - loss: 4.1669e-04 - accuracy: 1.0000 - val_loss: 1.0580 - val_accuracy: 0.6250\n",
            "Epoch 39/100\n",
            "2/2 [==============================] - 2s 628ms/step - loss: 4.2325e-04 - accuracy: 1.0000 - val_loss: 1.0659 - val_accuracy: 0.6250\n",
            "Epoch 40/100\n",
            "2/2 [==============================] - 2s 633ms/step - loss: 4.2868e-04 - accuracy: 1.0000 - val_loss: 1.0724 - val_accuracy: 0.6250\n",
            "Epoch 41/100\n",
            "2/2 [==============================] - 2s 927ms/step - loss: 4.3511e-04 - accuracy: 1.0000 - val_loss: 1.0773 - val_accuracy: 0.6250\n",
            "Epoch 42/100\n",
            "2/2 [==============================] - 2s 608ms/step - loss: 4.3706e-04 - accuracy: 1.0000 - val_loss: 1.0805 - val_accuracy: 0.6250\n",
            "Epoch 43/100\n",
            "2/2 [==============================] - 2s 618ms/step - loss: 4.4209e-04 - accuracy: 1.0000 - val_loss: 1.0824 - val_accuracy: 0.6250\n",
            "Epoch 44/100\n",
            "2/2 [==============================] - 2s 629ms/step - loss: 4.3912e-04 - accuracy: 1.0000 - val_loss: 1.0826 - val_accuracy: 0.6250\n",
            "Epoch 45/100\n",
            "2/2 [==============================] - 2s 615ms/step - loss: 4.3370e-04 - accuracy: 1.0000 - val_loss: 1.0817 - val_accuracy: 0.6250\n",
            "Epoch 46/100\n",
            "2/2 [==============================] - 2s 623ms/step - loss: 4.2772e-04 - accuracy: 1.0000 - val_loss: 1.0801 - val_accuracy: 0.6250\n",
            "Epoch 47/100\n",
            "2/2 [==============================] - 2s 971ms/step - loss: 4.1869e-04 - accuracy: 1.0000 - val_loss: 1.0782 - val_accuracy: 0.6250\n",
            "Epoch 48/100\n",
            "2/2 [==============================] - 2s 622ms/step - loss: 4.1039e-04 - accuracy: 1.0000 - val_loss: 1.0761 - val_accuracy: 0.6250\n",
            "Epoch 49/100\n",
            "2/2 [==============================] - 2s 629ms/step - loss: 4.0100e-04 - accuracy: 1.0000 - val_loss: 1.0740 - val_accuracy: 0.6250\n",
            "Epoch 50/100\n",
            "2/2 [==============================] - 2s 621ms/step - loss: 3.9458e-04 - accuracy: 1.0000 - val_loss: 1.0718 - val_accuracy: 0.6250\n",
            "Epoch 51/100\n",
            "2/2 [==============================] - 2s 620ms/step - loss: 3.8562e-04 - accuracy: 1.0000 - val_loss: 1.0696 - val_accuracy: 0.6250\n",
            "Epoch 52/100\n",
            "2/2 [==============================] - 2s 614ms/step - loss: 3.8093e-04 - accuracy: 1.0000 - val_loss: 1.0674 - val_accuracy: 0.6250\n",
            "Epoch 53/100\n",
            "2/2 [==============================] - 2s 622ms/step - loss: 3.7521e-04 - accuracy: 1.0000 - val_loss: 1.0653 - val_accuracy: 0.6250\n",
            "Epoch 54/100\n",
            "2/2 [==============================] - 2s 625ms/step - loss: 3.7282e-04 - accuracy: 1.0000 - val_loss: 1.0636 - val_accuracy: 0.6250\n",
            "Epoch 55/100\n",
            "2/2 [==============================] - 2s 626ms/step - loss: 3.6998e-04 - accuracy: 1.0000 - val_loss: 1.0622 - val_accuracy: 0.6250\n",
            "Epoch 56/100\n",
            "2/2 [==============================] - 2s 603ms/step - loss: 3.6576e-04 - accuracy: 1.0000 - val_loss: 1.0613 - val_accuracy: 0.6250\n",
            "Epoch 57/100\n",
            "2/2 [==============================] - 2s 621ms/step - loss: 3.6391e-04 - accuracy: 1.0000 - val_loss: 1.0606 - val_accuracy: 0.6250\n",
            "Epoch 58/100\n",
            "2/2 [==============================] - 2s 611ms/step - loss: 3.6432e-04 - accuracy: 1.0000 - val_loss: 1.0600 - val_accuracy: 0.6250\n",
            "Epoch 59/100\n",
            "2/2 [==============================] - 2s 622ms/step - loss: 3.6199e-04 - accuracy: 1.0000 - val_loss: 1.0598 - val_accuracy: 0.6250\n",
            "Epoch 60/100\n",
            "2/2 [==============================] - 2s 612ms/step - loss: 3.6096e-04 - accuracy: 1.0000 - val_loss: 1.0598 - val_accuracy: 0.6250\n",
            "Epoch 61/100\n",
            "2/2 [==============================] - 2s 620ms/step - loss: 3.5910e-04 - accuracy: 1.0000 - val_loss: 1.0601 - val_accuracy: 0.6250\n",
            "Epoch 62/100\n",
            "2/2 [==============================] - 2s 613ms/step - loss: 3.5766e-04 - accuracy: 1.0000 - val_loss: 1.0603 - val_accuracy: 0.6250\n",
            "Epoch 63/100\n",
            "2/2 [==============================] - 2s 638ms/step - loss: 3.5599e-04 - accuracy: 1.0000 - val_loss: 1.0606 - val_accuracy: 0.6250\n",
            "Epoch 64/100\n",
            "2/2 [==============================] - 2s 613ms/step - loss: 3.5439e-04 - accuracy: 1.0000 - val_loss: 1.0611 - val_accuracy: 0.6250\n",
            "Epoch 65/100\n",
            "2/2 [==============================] - 2s 612ms/step - loss: 3.5297e-04 - accuracy: 1.0000 - val_loss: 1.0619 - val_accuracy: 0.6250\n",
            "Epoch 66/100\n",
            "2/2 [==============================] - 2s 606ms/step - loss: 3.5058e-04 - accuracy: 1.0000 - val_loss: 1.0625 - val_accuracy: 0.6250\n",
            "Epoch 67/100\n",
            "2/2 [==============================] - 2s 613ms/step - loss: 3.4872e-04 - accuracy: 1.0000 - val_loss: 1.0633 - val_accuracy: 0.6250\n",
            "Epoch 68/100\n",
            "2/2 [==============================] - 2s 616ms/step - loss: 3.4694e-04 - accuracy: 1.0000 - val_loss: 1.0641 - val_accuracy: 0.6250\n",
            "Epoch 69/100\n",
            "2/2 [==============================] - 2s 634ms/step - loss: 3.4500e-04 - accuracy: 1.0000 - val_loss: 1.0648 - val_accuracy: 0.6250\n",
            "Epoch 70/100\n",
            "2/2 [==============================] - 2s 608ms/step - loss: 3.4366e-04 - accuracy: 1.0000 - val_loss: 1.0655 - val_accuracy: 0.6250\n",
            "Epoch 71/100\n",
            "2/2 [==============================] - 2s 623ms/step - loss: 3.4158e-04 - accuracy: 1.0000 - val_loss: 1.0661 - val_accuracy: 0.6250\n",
            "Epoch 72/100\n",
            "2/2 [==============================] - 2s 614ms/step - loss: 3.3969e-04 - accuracy: 1.0000 - val_loss: 1.0666 - val_accuracy: 0.6250\n",
            "Epoch 73/100\n",
            "2/2 [==============================] - 2s 636ms/step - loss: 3.3819e-04 - accuracy: 1.0000 - val_loss: 1.0672 - val_accuracy: 0.6250\n",
            "Epoch 74/100\n",
            "2/2 [==============================] - 2s 626ms/step - loss: 3.3634e-04 - accuracy: 1.0000 - val_loss: 1.0677 - val_accuracy: 0.6250\n",
            "Epoch 75/100\n",
            "2/2 [==============================] - 2s 620ms/step - loss: 3.3449e-04 - accuracy: 1.0000 - val_loss: 1.0682 - val_accuracy: 0.6250\n",
            "Epoch 76/100\n",
            "2/2 [==============================] - 2s 665ms/step - loss: 3.3299e-04 - accuracy: 1.0000 - val_loss: 1.0687 - val_accuracy: 0.6250\n",
            "Epoch 77/100\n",
            "2/2 [==============================] - 2s 616ms/step - loss: 3.3139e-04 - accuracy: 1.0000 - val_loss: 1.0693 - val_accuracy: 0.6250\n",
            "Epoch 78/100\n",
            "2/2 [==============================] - 2s 632ms/step - loss: 3.2961e-04 - accuracy: 1.0000 - val_loss: 1.0699 - val_accuracy: 0.6250\n",
            "Epoch 79/100\n",
            "2/2 [==============================] - 2s 632ms/step - loss: 3.2819e-04 - accuracy: 1.0000 - val_loss: 1.0705 - val_accuracy: 0.6250\n",
            "Epoch 80/100\n",
            "2/2 [==============================] - 2s 643ms/step - loss: 3.2664e-04 - accuracy: 1.0000 - val_loss: 1.0710 - val_accuracy: 0.6250\n",
            "Epoch 81/100\n",
            "2/2 [==============================] - 2s 629ms/step - loss: 3.2488e-04 - accuracy: 1.0000 - val_loss: 1.0714 - val_accuracy: 0.6250\n",
            "Epoch 82/100\n",
            "2/2 [==============================] - 2s 635ms/step - loss: 3.2327e-04 - accuracy: 1.0000 - val_loss: 1.0717 - val_accuracy: 0.6250\n",
            "Epoch 83/100\n",
            "2/2 [==============================] - 2s 613ms/step - loss: 3.2160e-04 - accuracy: 1.0000 - val_loss: 1.0721 - val_accuracy: 0.6250\n",
            "Epoch 84/100\n",
            "2/2 [==============================] - 2s 634ms/step - loss: 3.2026e-04 - accuracy: 1.0000 - val_loss: 1.0725 - val_accuracy: 0.6250\n",
            "Epoch 85/100\n",
            "2/2 [==============================] - 2s 641ms/step - loss: 3.1883e-04 - accuracy: 1.0000 - val_loss: 1.0731 - val_accuracy: 0.6250\n",
            "Epoch 86/100\n",
            "2/2 [==============================] - 2s 639ms/step - loss: 3.1706e-04 - accuracy: 1.0000 - val_loss: 1.0739 - val_accuracy: 0.6250\n",
            "Epoch 87/100\n",
            "2/2 [==============================] - 2s 642ms/step - loss: 3.1565e-04 - accuracy: 1.0000 - val_loss: 1.0747 - val_accuracy: 0.6250\n",
            "Epoch 88/100\n",
            "2/2 [==============================] - 2s 638ms/step - loss: 3.1381e-04 - accuracy: 1.0000 - val_loss: 1.0753 - val_accuracy: 0.6250\n",
            "Epoch 89/100\n",
            "2/2 [==============================] - 2s 656ms/step - loss: 3.1234e-04 - accuracy: 1.0000 - val_loss: 1.0759 - val_accuracy: 0.6250\n",
            "Epoch 90/100\n",
            "2/2 [==============================] - 2s 626ms/step - loss: 3.1079e-04 - accuracy: 1.0000 - val_loss: 1.0765 - val_accuracy: 0.6250\n",
            "Epoch 91/100\n",
            "2/2 [==============================] - 2s 636ms/step - loss: 3.0943e-04 - accuracy: 1.0000 - val_loss: 1.0769 - val_accuracy: 0.6250\n",
            "Epoch 92/100\n",
            "2/2 [==============================] - 2s 614ms/step - loss: 3.0780e-04 - accuracy: 1.0000 - val_loss: 1.0773 - val_accuracy: 0.6250\n",
            "Epoch 93/100\n",
            "2/2 [==============================] - 2s 636ms/step - loss: 3.0645e-04 - accuracy: 1.0000 - val_loss: 1.0778 - val_accuracy: 0.6250\n",
            "Epoch 94/100\n",
            "2/2 [==============================] - 2s 619ms/step - loss: 3.0475e-04 - accuracy: 1.0000 - val_loss: 1.0780 - val_accuracy: 0.6250\n",
            "Epoch 95/100\n",
            "2/2 [==============================] - 2s 618ms/step - loss: 3.0306e-04 - accuracy: 1.0000 - val_loss: 1.0782 - val_accuracy: 0.6250\n",
            "Epoch 96/100\n",
            "2/2 [==============================] - 2s 624ms/step - loss: 3.0172e-04 - accuracy: 1.0000 - val_loss: 1.0784 - val_accuracy: 0.6250\n",
            "Epoch 97/100\n",
            "2/2 [==============================] - 2s 641ms/step - loss: 3.0020e-04 - accuracy: 1.0000 - val_loss: 1.0787 - val_accuracy: 0.6250\n",
            "Epoch 98/100\n",
            "2/2 [==============================] - 2s 624ms/step - loss: 2.9900e-04 - accuracy: 1.0000 - val_loss: 1.0788 - val_accuracy: 0.6250\n",
            "Epoch 99/100\n",
            "2/2 [==============================] - 2s 933ms/step - loss: 2.9739e-04 - accuracy: 1.0000 - val_loss: 1.0792 - val_accuracy: 0.6250\n",
            "Epoch 100/100\n",
            "2/2 [==============================] - 3s 1s/step - loss: 2.9568e-04 - accuracy: 1.0000 - val_loss: 1.0795 - val_accuracy: 0.6250\n"
          ]
        }
      ]
    },
    {
      "cell_type": "code",
      "source": [
        "plt.plot(history.history['accuracy'], label='Train Accuracy')\n",
        "plt.plot(history.history['val_accuracy'], label='Validation Accuracy')\n",
        "plt.xlabel('Epochs')\n",
        "plt.ylabel('Accuracy')\n",
        "plt.legend()"
      ],
      "metadata": {
        "colab": {
          "base_uri": "https://localhost:8080/",
          "height": 297
        },
        "id": "CshOR3R67PBa",
        "outputId": "185e3803-d506-4a01-f3f5-37d96cf4f434"
      },
      "execution_count": 13,
      "outputs": [
        {
          "output_type": "execute_result",
          "data": {
            "text/plain": [
              "<matplotlib.legend.Legend at 0x7f0fb5106a90>"
            ]
          },
          "metadata": {},
          "execution_count": 13
        },
        {
          "output_type": "display_data",
          "data": {
            "text/plain": [
              "<Figure size 432x288 with 1 Axes>"
            ],
            "image/png": "[encoded data removed]"
          },
          "metadata": {
            "needs_background": "light"
          }
        }
      ]
    },
    {
      "cell_type": "code",
      "source": [
        "# 샘플 오디오 데이터\n",
        "DATA_DIR = '/content/drive/My Drive/특화_음성/tutorial/'\n",
        "\n",
        "wav, sr = librosa.load(DATA_DIR + 'sample_5(안녕).wav', sr=None)\n",
        "print('sr:', sr)\n",
        "print('wav shape:', wav.shape)\n",
        "print('length:', wav.shape[0]/float(sr), 'secs')"
      ],
      "metadata": {
        "colab": {
          "base_uri": "https://localhost:8080/"
        },
        "id": "Yt3SUnZY7frY",
        "outputId": "67e02df8-6d0b-448f-911a-a630f2395244"
      },
      "execution_count": 26,
      "outputs": [
        {
          "output_type": "stream",
          "name": "stdout",
          "text": [
            "sr: 44100\n",
            "wav shape: (90317,)\n",
            "length: 2.0480045351473923 secs\n"
          ]
        }
      ]
    },
    {
      "cell_type": "code",
      "source": [
        "mfcc = librosa.feature.mfcc(wav, n_mfcc=100)\n",
        "padded_mfcc = pad2d(mfcc, 300)\n",
        "padded_mfcc = np.expand_dims(padded_mfcc, 0)\n",
        "\n",
        "result = model.predict(padded_mfcc)\n",
        "print(result)\n",
        "if result[0][0] <= result[0][1]: # 인사\n",
        "  print('인사') \n",
        "else:\n",
        "  print('인사 아님')"
      ],
      "metadata": {
        "colab": {
          "base_uri": "https://localhost:8080/"
        },
        "id": "U4LWOOZl8C-J",
        "outputId": "c2cb288b-6e7d-446e-a00c-2b82e8608e1b"
      },
      "execution_count": 28,
      "outputs": [
        {
          "output_type": "stream",
          "name": "stdout",
          "text": [
            "[[1. 0.]]\n",
            "인사 아님\n"
          ]
        }
      ]
    },
    {
      "cell_type": "code",
      "source": [
        "model.save('/content/drive/My Drive/졸프/0726Data/filler_determine_model_by_train2_1205.h5')"
      ],
      "metadata": {
        "id": "8NSgVEeN8Q7H"
      },
      "execution_count": 16,
      "outputs": []
    }
  ]
}